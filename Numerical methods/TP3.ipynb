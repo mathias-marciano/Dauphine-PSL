{
  "cells": [
    {
      "cell_type": "markdown",
      "source": [
        "We implement a simple *neuronal network* (NN). That is, given an input vector $X$, the NN is defined from a mathematical viewpoint as the function $f$ which has the form\n",
        "$$\n",
        "f(X) = \\mathcal{A}_N \\circ \\mathcal{A}_{N-1} \\circ \\dots \\circ \\mathcal{A}_2 \\circ \\mathcal{A}_1(X).\n",
        "$$\n",
        "Here, $\\mathcal{A}_i$ is defined as the composition of an affine function $Z_i(X) = W_i(X) + b_i$ (where $W_i$ is a matrix and $b_i$ an offset vector) with an activation function $\\sigma_i$, that is $\\mathcal{A}_i = \\sigma_i(Z_i)$. Typically, $\\sigma_i$ is either a *sigmoid function* \n",
        "$$\n",
        "\\sigma_i(x_1, \\dots, x_n) = \\left(\\frac{1}{1 - e^{-x_1}}, \\dots, \\frac{1}{1 - e^{-x_N}}\\right)\n",
        "$$\n",
        "or a *ReLu function*\n",
        "$$\n",
        "\\sigma_i(x_1, \\dots, x_n) = \\left(\\max(0, x_1), \\dots, \\max(0, x_N)\\right).\n",
        "$$"
      ],
      "metadata": {
        "id": "4_cvdKDLOTn7"
      }
    },
    {
      "cell_type": "code",
      "execution_count": 1,
      "metadata": {
        "id": "qNC8onwaKUDU"
      },
      "outputs": [],
      "source": [
        "import numpy as np"
      ]
    },
    {
      "cell_type": "markdown",
      "source": [
        "We start by defining the architecture of our NN.\n",
        "The function *init_layers* instantiate the weights of $W_i$ and $b_i$ randomly."
      ],
      "metadata": {
        "id": "94Xm7i-0ORta"
      }
    },
    {
      "cell_type": "code",
      "execution_count": 2,
      "metadata": {
        "id": "P5MMRwpIKUDX"
      },
      "outputs": [],
      "source": [
        "NN_ARCHITECTURE = [\n",
        "    {\"input_dim\": 2, \"output_dim\": 10, \"activation\": \"relu\"},\n",
        "    {\"input_dim\": 10, \"output_dim\": 20, \"activation\": \"relu\"},\n",
        "    {\"input_dim\": 20, \"output_dim\": 20, \"activation\": \"relu\"},\n",
        "    {\"input_dim\": 20, \"output_dim\": 10, \"activation\": \"relu\"},\n",
        "    {\"input_dim\": 10, \"output_dim\": 1, \"activation\": \"sigmoid\"},\n",
        "]\n",
        "\n",
        "def init_layers(nn_architecture):\n",
        "    params_values = {}\n",
        "    for idx, layer in enumerate(nn_architecture):\n",
        "        layer_idx = idx + 1\n",
        "\n",
        "        layer_input_size = layer[\"input_dim\"]\n",
        "        layer_output_size = layer[\"output_dim\"]\n",
        "\n",
        "        params_values['W' + str(layer_idx)] = np.random.rand(layer_output_size,layer_input_size)\n",
        "        params_values['b' + str(layer_idx)] = np.random.rand(layer_input_size,1)\n",
        "        \n",
        "    return params_values"
      ]
    },
    {
      "cell_type": "code",
      "execution_count": 21,
      "metadata": {
        "id": "ol-A7XC6KUDc"
      },
      "outputs": [],
      "source": [
        "def sigmoid(Z):\n",
        "    return(1/(1+np.exp(-Z)))\n",
        "\n",
        "def relu(Z):\n",
        "    return((Z>0)*Z)\n",
        "    #return(np.maximum(0,Z))\n",
        "\n",
        "def sigmoid_backward(dA, Z):\n",
        "    return((sigmoid(Z)*(1-sigmoid(Z))).dot(dA))\n",
        "\n",
        "def relu_backward(dA, Z):\n",
        "    return((Z>0).dot(dA))\n"
      ]
    },
    {
      "cell_type": "markdown",
      "source": [
        "We decompose the forward graph into small bits of computations. The function *single_layer_forward_propagation* takes $A_{i-1} = \\mathcal{A}_{i-1} \\circ \\dots \\circ \\mathcal{A}_1(X)$, the current weights $W_i$ and $b_i$, the type of activation function, and compute $\\mathcal{A}_i = \\sigma_i( Z_i)$ where $Z_i = W_i A_{i-1} + b_i$."
      ],
      "metadata": {
        "id": "c2SBYLIsRfQK"
      }
    },
    {
      "cell_type": "code",
      "execution_count": 19,
      "metadata": {
        "id": "7qwtw2VAKUDd"
      },
      "outputs": [],
      "source": [
        "def single_layer_forward_propagation(A_prev, W_curr, b_curr, activation=\"relu\"):\n",
        "    Z_curr = np.dot(W_curr,A_prev)+b_curr\n",
        "\n",
        "    if activation is \"relu\":\n",
        "        activation_func = relu\n",
        "    elif activation is \"sigmoid\":\n",
        "        activation_func = sigmoid\n",
        "\n",
        "    return activation_func(Z_curr), Z_curr"
      ]
    },
    {
      "cell_type": "markdown",
      "source": [
        "We then perform the full forward propagation of the NN. We keep in a *memory* dictionnary the values of the NN at each nodes, that is both $Z_i = W_i A_{i-1} + b_i$ and $A_i = \\sigma_i(Z_i)$."
      ],
      "metadata": {
        "id": "oRJB0KZ9SGPm"
      }
    },
    {
      "cell_type": "code",
      "execution_count": 5,
      "metadata": {
        "id": "JeTaU2pBKUDf"
      },
      "outputs": [],
      "source": [
        "def full_forward_propagation(X, params_values, nn_architecture):\n",
        "    memory = {}\n",
        "    A_curr = X\n",
        "  \n",
        "    for idx, layer in enumerate(nn_architecture):\n",
        "        layer_idx = idx + 1\n",
        "        A_prev = A_curr\n",
        "        \n",
        "        activ_function_curr = layer[\"activation\"]\n",
        "        W_curr = params_values[\"W\" + str(layer_idx)]\n",
        "        b_curr = params_values[\"b\" + str(layer_idx)]\n",
        "        A_curr, Z_curr = single_layer_forward_propagation(A_prev, W_curr, b_curr, activation=activ_function_curr)\n",
        "       \n",
        "        memory[\"A\" + str(idx)] = A_prev\n",
        "        memory[\"Z\" + str(layer_idx)] = Z_curr\n",
        "    return A_curr, memory"
      ]
    },
    {
      "cell_type": "markdown",
      "source": [
        "We use cross-entropy as a measurement of our NN:\n",
        "$$\n",
        "L(\\hat{Y}, Y) = \\frac 1 m\\sum_{i = 1}^m \\ell(\\hat{Y}_i, Y_i)\n",
        "$$\n",
        "where\n",
        "$$\n",
        "\\ell(\\hat{y}, y) = - y \\ln(\\hat{y})- (1-y)\\log(1 - \\hat{y}).\n",
        "$$"
      ],
      "metadata": {
        "id": "8fUT-qt0Ssem"
      }
    },
    {
      "cell_type": "code",
      "execution_count": 6,
      "metadata": {
        "id": "bNYgH8qtKUDg"
      },
      "outputs": [],
      "source": [
        "def get_cost_value(Y_hat, Y):\n",
        "    m = Y_hat.shape[1]\n",
        "    cost = -(1/m)*(np.dot(Y,np.log(Y_hat).T)+np.dot(1-Y,np.log(1-Y_hat).T))\n",
        "    return np.squeeze(cost)"
      ]
    },
    {
      "cell_type": "code",
      "execution_count": 7,
      "metadata": {
        "id": "63899RalKUDh"
      },
      "outputs": [],
      "source": [
        "def convert_prob_into_class(probs):\n",
        "    probs_ = np.copy(probs)\n",
        "    probs_[probs_ > 0.5] = 1\n",
        "    probs_[probs_ <= 0.5] = 0\n",
        "    return probs_\n",
        "\n",
        "def get_accuracy_value(Y_hat, Y):\n",
        "    Y_hat_ = convert_prob_into_class(Y_hat)\n",
        "    return (Y_hat_ == Y).all(axis=0).mean()"
      ]
    },
    {
      "cell_type": "markdown",
      "source": [
        "We now consider the backward propagation. Once again, we decompose the propagation into bits of propagation units, using *single_layer_backward_propagation*. Given the current $\\delta A_i$, it computes $\\delta A_{i-1}$, as well as $\\delta W_{i-1}$ and $\\delta b_i$."
      ],
      "metadata": {
        "id": "YlYONTp6Tzkk"
      }
    },
    {
      "cell_type": "code",
      "execution_count": 8,
      "metadata": {
        "id": "KRVeXfRRKUDn"
      },
      "outputs": [],
      "source": [
        "def single_layer_backward_propagation(dA_curr, W_curr, b_curr, Z_curr, A_prev, activation=\"relu\"):\n",
        "    # number of examples\n",
        "    m = A_prev.shape[1]\n",
        "    \n",
        "    # selection of activation function\n",
        "    if activation is \"relu\":\n",
        "        backward_activation_func = relu_backward\n",
        "    elif activation is \"sigmoid\":\n",
        "        backward_activation_func = sigmoid_backward\n",
        "    else:\n",
        "        raise Exception('Non-supported activation function')\n",
        "    \n",
        "    # calculation of the activation function derivative\n",
        "    dZ_curr = backward_activation_func(dA_curr, Z_curr)\n",
        "    dW_curr = np.dot(dZ_curr, A_prev.T)/m\n",
        "    db_curr = np.sum(dZ_curr)/m\n",
        "    dA_prev = np.dot(W_curr.T, dZ_curr)\n",
        "\n",
        "    return dA_prev, dW_curr, db_curr"
      ]
    },
    {
      "cell_type": "markdown",
      "source": [
        "Putting everything together, we can compute the full backward propagation. It keeps in a *grads_values* dictionnary all the gradients $\\partial L(X)/ \\partial W_i$ and $\\partial L(X)/\\partial b_i$. "
      ],
      "metadata": {
        "id": "db8fHZt8UTwe"
      }
    },
    {
      "cell_type": "code",
      "execution_count": 9,
      "metadata": {
        "id": "15OgtGpQKUDq"
      },
      "outputs": [],
      "source": [
        "def full_backward_propagation(Y_hat, Y, memory, params_values, nn_architecture):\n",
        "    grads_values = {}\n",
        "    m = Y.shape[1]\n",
        "\n",
        "    dA_prev = -(np.divide(Y,Y_hat)-np.divide(1-Y,1-Y_hat))\n",
        "    \n",
        "    for layer_idx_prev, layer in reversed(list(enumerate(nn_architecture))):\n",
        "        layer_idx_curr = layer_idx_prev + 1\n",
        "        activ_function_curr = layer[\"activation\"]\n",
        "        \n",
        "        dA_curr = dA_prev\n",
        "        \n",
        "        A_prev = memory[\"A\" + str(layer_idx_prev)]\n",
        "        Z_curr = memory[\"Z\" + str(layer_idx_curr)]\n",
        "        \n",
        "        W_curr = params_values[\"W\" + str(layer_idx_curr)]\n",
        "        b_curr = params_values[\"b\" + str(layer_idx_curr)]\n",
        "        \n",
        "        dA_prev, dW_curr, db_curr =  single_layer_backward_propagation(dA_curr, W_curr, b_curr, Z_curr, A_prev, activation=activ_function_curr)\n",
        "        grads_values[\"dW\" + str(layer_idx_curr)] = dW_curr\n",
        "        grads_values[\"db\" + str(layer_idx_curr)] = db_curr\n",
        "    \n",
        "    return grads_values"
      ]
    },
    {
      "cell_type": "markdown",
      "source": [
        "The gradient descent is then implement by updating each weights $W_i$ and $b_i$:"
      ],
      "metadata": {
        "id": "TMiB6D6eU2ki"
      }
    },
    {
      "cell_type": "code",
      "execution_count": 10,
      "metadata": {
        "id": "zif0fG50KUDq"
      },
      "outputs": [],
      "source": [
        "def update(params_values, grads_values, nn_architecture, learning_rate):\n",
        "\n",
        "    # iteration over network layers\n",
        "    for layer_idx, layer in enumerate(nn_architecture, 1):\n",
        "        params_values[\"W\" + str(layer_idx)] -= learning_rate * grads_values[\"dW\" + str(layer_idx)]        \n",
        "        params_values[\"b\" + str(layer_idx)] -= learning_rate * grads_values[\"db\" + str(layer_idx)]\n",
        "\n",
        "    return params_values;"
      ]
    },
    {
      "cell_type": "markdown",
      "source": [
        "Finally, let us implement the training."
      ],
      "metadata": {
        "id": "zVrRbgJHY5Rd"
      }
    },
    {
      "cell_type": "code",
      "execution_count": 17,
      "metadata": {
        "id": "qH0jPKFCKUDr"
      },
      "outputs": [],
      "source": [
        "def train(X, Y, nn_architecture, epochs, learning_rate, verbose=True, callback=None):\n",
        "    params_values = init_layers(nn_architecture)\n",
        "    cost_history = []\n",
        "    accuracy_history = []\n",
        "    \n",
        "    # performing calculations for subsequent iterations\n",
        "    for i in range(epochs):\n",
        "        Y_hat, cache = full_forward_propagation(X, params_values, nn_architecture)\n",
        "        \n",
        "        cost = get_cost_value(Y_hat, Y)\n",
        "        cost_history.append(cost)\n",
        "        accuracy = get_accuracy_value(Y_hat, Y)\n",
        "        accuracy_history.append(accuracy)\n",
        "        \n",
        "        grads_values = full_backward_propagation(Y_hat, Y, cache, params_values, nn_architecture)\n",
        "        params_values = update(params_values, grads_values, nn_architecture, learning_rate)\n",
        "        \n",
        "        if(i % 50 == 0):\n",
        "            if(verbose):\n",
        "                print(\"Iteration: {:05} - cost: {:.5f} - accuracy: {:.5f}\".format(i, cost, accuracy))\n",
        "            if(callback is not None):\n",
        "                callback(i, params_values)\n",
        "            \n",
        "    return params_values"
      ]
    },
    {
      "cell_type": "code",
      "execution_count": 12,
      "metadata": {
        "id": "Q0xhvy-EKUDt"
      },
      "outputs": [],
      "source": [
        "from sklearn.datasets import make_moons\n",
        "from sklearn.model_selection import train_test_split\n",
        "import matplotlib.pyplot as plt"
      ]
    },
    {
      "cell_type": "code",
      "execution_count": 13,
      "metadata": {
        "id": "lMCDp9pQKUDt",
        "colab": {
          "base_uri": "https://localhost:8080/",
          "height": 282
        },
        "outputId": "61e9b999-a9f8-4cce-ae5c-e2b7c21b682f"
      },
      "outputs": [
        {
          "output_type": "execute_result",
          "data": {
            "text/plain": [
              "<matplotlib.collections.PathCollection at 0x7f43e5a54110>"
            ]
          },
          "metadata": {},
          "execution_count": 13
        },
        {
          "output_type": "display_data",
          "data": {
            "text/plain": [
              "<Figure size 432x288 with 1 Axes>"
            ],
            "image/png": "[encoded data removed]"
          },
          "metadata": {
            "needs_background": "light"
          }
        }
      ],
      "source": [
        "N_SAMPLES = 1000\n",
        "TEST_SIZE = 0.1\n",
        "\n",
        "X, y = make_moons(n_samples = N_SAMPLES, noise=0.2, random_state=100)\n",
        "X_train, X_test, y_train, y_test = train_test_split(X, y, test_size=TEST_SIZE, random_state=42)\n",
        "\n",
        "Z1 = X_train[y_train == 0]; Z2 = X_train[y_train == 1]\n",
        "plt.scatter(Z1[:,0], Z1[:,1])\n",
        "plt.scatter(Z2[:,0], Z2[:,1])"
      ]
    },
    {
      "cell_type": "code",
      "source": [
        "# Training\n",
        "params_values = train(np.transpose(X_train), np.transpose(y_train.reshape((y_train.shape[0], 1))), NN_ARCHITECTURE, 10000, 0.01)\n",
        "# Prediction\n",
        "Y_test_hat, _ = full_forward_propagation(np.transpose(X_test), params_values, NN_ARCHITECTURE)\n",
        "# Accuracy achieved on the test set\n",
        "acc_test = get_accuracy_value(Y_test_hat, np.transpose(y_test.reshape((y_test.shape[0], 1))))\n",
        "print(\"Test set accuracy: {:.2f}\".format(acc_test))\n",
        "\n",
        "#ABANDON : probleme de taille"
      ],
      "metadata": {
        "id": "RHOh2bNiN3QC",
        "colab": {
          "base_uri": "https://localhost:8080/",
          "height": 381
        },
        "outputId": "655436dc-b478-4bfb-d8bb-93a32cce131b"
      },
      "execution_count": 23,
      "outputs": [
        {
          "output_type": "error",
          "ename": "ValueError",
          "evalue": "ignored",
          "traceback": [
            "\u001b[0;31m---------------------------------------------------------------------------\u001b[0m",
            "\u001b[0;31mValueError\u001b[0m                                Traceback (most recent call last)",
            "\u001b[0;32m<ipython-input-23-5c339e85c77c>\u001b[0m in \u001b[0;36m<module>\u001b[0;34m()\u001b[0m\n\u001b[1;32m      1\u001b[0m \u001b[0;31m# Training\u001b[0m\u001b[0;34m\u001b[0m\u001b[0;34m\u001b[0m\u001b[0;34m\u001b[0m\u001b[0m\n\u001b[0;32m----> 2\u001b[0;31m \u001b[0mparams_values\u001b[0m \u001b[0;34m=\u001b[0m \u001b[0mtrain\u001b[0m\u001b[0;34m(\u001b[0m\u001b[0mnp\u001b[0m\u001b[0;34m.\u001b[0m\u001b[0mtranspose\u001b[0m\u001b[0;34m(\u001b[0m\u001b[0mX_train\u001b[0m\u001b[0;34m)\u001b[0m\u001b[0;34m,\u001b[0m \u001b[0mnp\u001b[0m\u001b[0;34m.\u001b[0m\u001b[0mtranspose\u001b[0m\u001b[0;34m(\u001b[0m\u001b[0my_train\u001b[0m\u001b[0;34m.\u001b[0m\u001b[0mreshape\u001b[0m\u001b[0;34m(\u001b[0m\u001b[0;34m(\u001b[0m\u001b[0my_train\u001b[0m\u001b[0;34m.\u001b[0m\u001b[0mshape\u001b[0m\u001b[0;34m[\u001b[0m\u001b[0;36m0\u001b[0m\u001b[0;34m]\u001b[0m\u001b[0;34m,\u001b[0m \u001b[0;36m1\u001b[0m\u001b[0;34m)\u001b[0m\u001b[0;34m)\u001b[0m\u001b[0;34m)\u001b[0m\u001b[0;34m,\u001b[0m \u001b[0mNN_ARCHITECTURE\u001b[0m\u001b[0;34m,\u001b[0m \u001b[0;36m10000\u001b[0m\u001b[0;34m,\u001b[0m \u001b[0;36m0.01\u001b[0m\u001b[0;34m)\u001b[0m\u001b[0;34m\u001b[0m\u001b[0;34m\u001b[0m\u001b[0m\n\u001b[0m\u001b[1;32m      3\u001b[0m \u001b[0;31m# Prediction\u001b[0m\u001b[0;34m\u001b[0m\u001b[0;34m\u001b[0m\u001b[0;34m\u001b[0m\u001b[0m\n\u001b[1;32m      4\u001b[0m \u001b[0mY_test_hat\u001b[0m\u001b[0;34m,\u001b[0m \u001b[0m_\u001b[0m \u001b[0;34m=\u001b[0m \u001b[0mfull_forward_propagation\u001b[0m\u001b[0;34m(\u001b[0m\u001b[0mnp\u001b[0m\u001b[0;34m.\u001b[0m\u001b[0mtranspose\u001b[0m\u001b[0;34m(\u001b[0m\u001b[0mX_test\u001b[0m\u001b[0;34m)\u001b[0m\u001b[0;34m,\u001b[0m \u001b[0mparams_values\u001b[0m\u001b[0;34m,\u001b[0m \u001b[0mNN_ARCHITECTURE\u001b[0m\u001b[0;34m)\u001b[0m\u001b[0;34m\u001b[0m\u001b[0;34m\u001b[0m\u001b[0m\n\u001b[1;32m      5\u001b[0m \u001b[0;31m# Accuracy achieved on the test set\u001b[0m\u001b[0;34m\u001b[0m\u001b[0;34m\u001b[0m\u001b[0;34m\u001b[0m\u001b[0m\n",
            "\u001b[0;32m<ipython-input-17-5dfd7e14bb59>\u001b[0m in \u001b[0;36mtrain\u001b[0;34m(X, Y, nn_architecture, epochs, learning_rate, verbose, callback)\u001b[0m\n\u001b[1;32m      6\u001b[0m     \u001b[0;31m# performing calculations for subsequent iterations\u001b[0m\u001b[0;34m\u001b[0m\u001b[0;34m\u001b[0m\u001b[0;34m\u001b[0m\u001b[0m\n\u001b[1;32m      7\u001b[0m     \u001b[0;32mfor\u001b[0m \u001b[0mi\u001b[0m \u001b[0;32min\u001b[0m \u001b[0mrange\u001b[0m\u001b[0;34m(\u001b[0m\u001b[0mepochs\u001b[0m\u001b[0;34m)\u001b[0m\u001b[0;34m:\u001b[0m\u001b[0;34m\u001b[0m\u001b[0;34m\u001b[0m\u001b[0m\n\u001b[0;32m----> 8\u001b[0;31m         \u001b[0mY_hat\u001b[0m\u001b[0;34m,\u001b[0m \u001b[0mcache\u001b[0m \u001b[0;34m=\u001b[0m \u001b[0mfull_forward_propagation\u001b[0m\u001b[0;34m(\u001b[0m\u001b[0mX\u001b[0m\u001b[0;34m,\u001b[0m \u001b[0mparams_values\u001b[0m\u001b[0;34m,\u001b[0m \u001b[0mnn_architecture\u001b[0m\u001b[0;34m)\u001b[0m\u001b[0;34m\u001b[0m\u001b[0;34m\u001b[0m\u001b[0m\n\u001b[0m\u001b[1;32m      9\u001b[0m \u001b[0;34m\u001b[0m\u001b[0m\n\u001b[1;32m     10\u001b[0m         \u001b[0mcost\u001b[0m \u001b[0;34m=\u001b[0m \u001b[0mget_cost_value\u001b[0m\u001b[0;34m(\u001b[0m\u001b[0mY_hat\u001b[0m\u001b[0;34m,\u001b[0m \u001b[0mY\u001b[0m\u001b[0;34m)\u001b[0m\u001b[0;34m\u001b[0m\u001b[0;34m\u001b[0m\u001b[0m\n",
            "\u001b[0;32m<ipython-input-5-39b68bfde98a>\u001b[0m in \u001b[0;36mfull_forward_propagation\u001b[0;34m(X, params_values, nn_architecture)\u001b[0m\n\u001b[1;32m     10\u001b[0m         \u001b[0mW_curr\u001b[0m \u001b[0;34m=\u001b[0m \u001b[0mparams_values\u001b[0m\u001b[0;34m[\u001b[0m\u001b[0;34m\"W\"\u001b[0m \u001b[0;34m+\u001b[0m \u001b[0mstr\u001b[0m\u001b[0;34m(\u001b[0m\u001b[0mlayer_idx\u001b[0m\u001b[0;34m)\u001b[0m\u001b[0;34m]\u001b[0m\u001b[0;34m\u001b[0m\u001b[0;34m\u001b[0m\u001b[0m\n\u001b[1;32m     11\u001b[0m         \u001b[0mb_curr\u001b[0m \u001b[0;34m=\u001b[0m \u001b[0mparams_values\u001b[0m\u001b[0;34m[\u001b[0m\u001b[0;34m\"b\"\u001b[0m \u001b[0;34m+\u001b[0m \u001b[0mstr\u001b[0m\u001b[0;34m(\u001b[0m\u001b[0mlayer_idx\u001b[0m\u001b[0;34m)\u001b[0m\u001b[0;34m]\u001b[0m\u001b[0;34m\u001b[0m\u001b[0;34m\u001b[0m\u001b[0m\n\u001b[0;32m---> 12\u001b[0;31m         \u001b[0mA_curr\u001b[0m\u001b[0;34m,\u001b[0m \u001b[0mZ_curr\u001b[0m \u001b[0;34m=\u001b[0m \u001b[0msingle_layer_forward_propagation\u001b[0m\u001b[0;34m(\u001b[0m\u001b[0mA_prev\u001b[0m\u001b[0;34m,\u001b[0m \u001b[0mW_curr\u001b[0m\u001b[0;34m,\u001b[0m \u001b[0mb_curr\u001b[0m\u001b[0;34m,\u001b[0m \u001b[0mactivation\u001b[0m\u001b[0;34m=\u001b[0m\u001b[0mactiv_function_curr\u001b[0m\u001b[0;34m)\u001b[0m\u001b[0;34m\u001b[0m\u001b[0;34m\u001b[0m\u001b[0m\n\u001b[0m\u001b[1;32m     13\u001b[0m \u001b[0;34m\u001b[0m\u001b[0m\n\u001b[1;32m     14\u001b[0m         \u001b[0mmemory\u001b[0m\u001b[0;34m[\u001b[0m\u001b[0;34m\"A\"\u001b[0m \u001b[0;34m+\u001b[0m \u001b[0mstr\u001b[0m\u001b[0;34m(\u001b[0m\u001b[0midx\u001b[0m\u001b[0;34m)\u001b[0m\u001b[0;34m]\u001b[0m \u001b[0;34m=\u001b[0m \u001b[0mA_prev\u001b[0m\u001b[0;34m\u001b[0m\u001b[0;34m\u001b[0m\u001b[0m\n",
            "\u001b[0;32m<ipython-input-19-a8b5d99b714f>\u001b[0m in \u001b[0;36msingle_layer_forward_propagation\u001b[0;34m(A_prev, W_curr, b_curr, activation)\u001b[0m\n\u001b[1;32m      1\u001b[0m \u001b[0;32mdef\u001b[0m \u001b[0msingle_layer_forward_propagation\u001b[0m\u001b[0;34m(\u001b[0m\u001b[0mA_prev\u001b[0m\u001b[0;34m,\u001b[0m \u001b[0mW_curr\u001b[0m\u001b[0;34m,\u001b[0m \u001b[0mb_curr\u001b[0m\u001b[0;34m,\u001b[0m \u001b[0mactivation\u001b[0m\u001b[0;34m=\u001b[0m\u001b[0;34m\"relu\"\u001b[0m\u001b[0;34m)\u001b[0m\u001b[0;34m:\u001b[0m\u001b[0;34m\u001b[0m\u001b[0;34m\u001b[0m\u001b[0m\n\u001b[0;32m----> 2\u001b[0;31m     \u001b[0mZ_curr\u001b[0m \u001b[0;34m=\u001b[0m \u001b[0mnp\u001b[0m\u001b[0;34m.\u001b[0m\u001b[0mdot\u001b[0m\u001b[0;34m(\u001b[0m\u001b[0mW_curr\u001b[0m\u001b[0;34m,\u001b[0m\u001b[0mA_prev\u001b[0m\u001b[0;34m)\u001b[0m\u001b[0;34m+\u001b[0m\u001b[0mb_curr\u001b[0m\u001b[0;34m\u001b[0m\u001b[0;34m\u001b[0m\u001b[0m\n\u001b[0m\u001b[1;32m      3\u001b[0m \u001b[0;34m\u001b[0m\u001b[0m\n\u001b[1;32m      4\u001b[0m     \u001b[0;32mif\u001b[0m \u001b[0mactivation\u001b[0m \u001b[0;32mis\u001b[0m \u001b[0;34m\"relu\"\u001b[0m\u001b[0;34m:\u001b[0m\u001b[0;34m\u001b[0m\u001b[0;34m\u001b[0m\u001b[0m\n\u001b[1;32m      5\u001b[0m         \u001b[0mactivation_func\u001b[0m \u001b[0;34m=\u001b[0m \u001b[0mrelu\u001b[0m\u001b[0;34m\u001b[0m\u001b[0;34m\u001b[0m\u001b[0m\n",
            "\u001b[0;31mValueError\u001b[0m: operands could not be broadcast together with shapes (10,900) (2,1) "
          ]
        }
      ]
    }
  ],
  "metadata": {
    "kernelspec": {
      "display_name": "Python 3",
      "language": "python",
      "name": "python3"
    },
    "language_info": {
      "codemirror_mode": {
        "name": "ipython",
        "version": 3
      },
      "file_extension": ".py",
      "mimetype": "text/x-python",
      "name": "python",
      "nbconvert_exporter": "python",
      "pygments_lexer": "ipython3",
      "version": "3.6.7"
    },
    "colab": {
      "name": "TP3.ipynb",
      "provenance": [],
      "collapsed_sections": []
    }
  },
  "nbformat": 4,
  "nbformat_minor": 0
}