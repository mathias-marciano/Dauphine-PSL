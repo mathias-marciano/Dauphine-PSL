{
 "cells": [
  {
   "cell_type": "markdown",
   "metadata": {},
   "source": [
    "# TP0 Introduction\n",
    "\n",
    "### Table des matières\n",
    "\n",
    "* [1. Introduction au Jupyter notebook](#chapter1)\n",
    "    * [1.1 Cellule Markdown](#section_1_1)\n",
    "    * [1.2 Cellule Python](sSection_1_2)\n",
    "    \n",
    "* [2. Introduction à Python](#chapter2)\n",
    "    * [2.1 Variables et leurs types, liste et np.array](#section_2_1)\n",
    "        * [2.1.1. Variable](#section_2_1_1)\n",
    "        * [2.1.2. Liste](#section_2_1_2)\n",
    "        * [2.1.3. Type `array`](#section_2_1_3)\n",
    "    * [2.2 Opérations de base](#section_2_2)\n",
    "        * [2.2.1 Opérations sur les nombres](#section_2_2_1)\n",
    "        * [2.2.2 Opération sur une matrice](#section_2_2_2)\n",
    "    * [2.3 Boucles `for` et `if...else` en Python](#section_2_3)\n",
    "    * [2.4 Définir une fonction](#section_2_4)\n",
    "    * [2.5 Les graphiques](#section_2_5)\n"
   ]
  },
  {
   "cell_type": "markdown",
   "metadata": {},
   "source": [
    "# 1. Introduction au notebook Jupyter<a class=\"anchor\" id=\"chapter1\"></a>"
   ]
  },
  {
   "cell_type": "markdown",
   "metadata": {},
   "source": [
    "Pour lancer Jupyter, il faut, dans un terminal, lancer la commande\n",
    "\n",
    "`jupyter notebook`\n",
    "\n",
    "Cela ouvrira automatiquement un navigateur Web dans lequel travailler. L'onglet principal représente l’arborescence des fichiers depuis le fichier où la commande a été lancée.\n",
    "\n",
    "Les notebooks sont composés de cellules contenant du code (en python) ou du texte (simple ou formaté avec les balisages Markdown). Ces notebooks permettent de faire des calculs interactifs en Python, et constituent un outil de choix pour l'enseignement.\n",
    "\n",
    "On peut éditer une cellule en double-cliquant dessus, et l’évaluer en tapant **Ctrl+Entrée** (on utilisera aussi souvent **Maj.+Entrée** pour évaluer et passer à la cellule suivante). Les boutons dans la barre d’outils vous seront très utils, survolez-les pour faire apparaître une infobulle si leur pictogramme n’est pas assez clair. \n",
    "\n",
    "N’oubliez pas de sauvegarder de temps en temps votre travail, même si Jupyter fait des sauvegardes automatiques régulières."
   ]
  },
  {
   "cell_type": "markdown",
   "metadata": {},
   "source": [
    "On pourra cliquer sur *Help -> User Interface Tour* ou *Help -> Keyboard Shortcuts* pour avoir des explications"
   ]
  },
  {
   "cell_type": "markdown",
   "metadata": {},
   "source": [
    "**Exercice 1** : Supprimer la cellule suivante :"
   ]
  },
  {
   "cell_type": "markdown",
   "metadata": {},
   "source": []
  },
  {
   "cell_type": "markdown",
   "metadata": {},
   "source": [
    "**Exercice 1-bis** :  Ajouter une cellule Python en dessous de cette cellule."
   ]
  },
  {
   "cell_type": "code",
   "execution_count": null,
   "metadata": {},
   "outputs": [],
   "source": []
  },
  {
   "cell_type": "markdown",
   "metadata": {},
   "source": [
    "## 1.1 Cellule Markdown <a class=\"anchor\" id=\"section_1_1\"></a>\n",
    "Le *Markdown* est un format de texte qui accepte un minimum de formatage. Il permet de rapidement :\n",
    "- faire des listes.\n",
    "- faire des *italiques*, du **gras**, du ~~barré~~, etc.\n",
    "- faire des [liens](https://fr.wikipedia.org/wiki/Markdown)\n",
    "- écrire des formules mathématiques avec  $\\LaTeX$ (voir [ici](http://www.tuteurs.ens.fr/logiciels/latex/maths.html#s2) pour une rapide introduction à $\\LaTeX$)."
   ]
  },
  {
   "cell_type": "markdown",
   "metadata": {},
   "source": [
    "**Exercice 2** : changer le premier mot en *italique* et le deuxième mot en **gras**  "
   ]
  },
  {
   "cell_type": "markdown",
   "metadata": {},
   "source": [
    "premier-mot  \n",
    "\n",
    "deuxième-mot"
   ]
  },
  {
   "cell_type": "markdown",
   "metadata": {},
   "source": [
    "**Exercice 3** : Taper une formule simple en $\\LaTeX$ (par exemple, une intégration, probabilité/espérance d'une variable aléatoire)"
   ]
  },
  {
   "cell_type": "markdown",
   "metadata": {},
   "source": [
    "À faire"
   ]
  },
  {
   "cell_type": "markdown",
   "metadata": {},
   "source": []
  },
  {
   "cell_type": "markdown",
   "metadata": {},
   "source": [
    "## 1.2 Cellule Python<a class=\"anchor\" id=\"section_1_2\"></a>\n",
    "La cellule suivante est une cellule python. On peut l'évaluer avec **Maj.+Entrée**."
   ]
  },
  {
   "cell_type": "markdown",
   "metadata": {},
   "source": [
    "**Exercice 4** : Evaluer la cellule suivante."
   ]
  },
  {
   "cell_type": "code",
   "execution_count": null,
   "metadata": {},
   "outputs": [],
   "source": [
    "# Ceci est un commentaire Python\n",
    "# On prendra l'habitude de commenter son code :\n",
    "# Un code doit être lisible et compréhensible par d'autres utilisateurs\n",
    "#\n",
    "\n",
    "print(\"hello world !\")"
   ]
  },
  {
   "cell_type": "markdown",
   "metadata": {},
   "source": [
    "**Exercice 5** : Changer la cellule suivante (formatée en Markdown) en une cellule python."
   ]
  },
  {
   "cell_type": "markdown",
   "metadata": {},
   "source": [
    "print(\"hello world !\")"
   ]
  },
  {
   "cell_type": "markdown",
   "metadata": {},
   "source": [
    "**Exercice 6** : Changer la cellule suivante (formatée en python) en une cellule Markdown."
   ]
  },
  {
   "cell_type": "code",
   "execution_count": null,
   "metadata": {},
   "outputs": [],
   "source": [
    "Oops! This is a Markdown cell"
   ]
  },
  {
   "cell_type": "markdown",
   "metadata": {},
   "source": [
    "# 2. Introduction à Python<a class=\"anchor\" id=\"chapter2\"></a>"
   ]
  },
  {
   "cell_type": "markdown",
   "metadata": {},
   "source": [
    "### Pour commencer: Importer une librairie. "
   ]
  },
  {
   "cell_type": "code",
   "execution_count": 2,
   "metadata": {},
   "outputs": [],
   "source": [
    "# Importer la librairie numpy\n",
    "import numpy\n",
    "\n",
    "# Importer la librairie numpy et lui donner un raccourci\n",
    "import numpy as np\n",
    "\n",
    "# Importer une partie dans une librairie\n",
    "from scipy.stats import norm "
   ]
  },
  {
   "cell_type": "markdown",
   "metadata": {},
   "source": [
    "On pourra également utiliser\n",
    "\n",
    "`%pylab inline`\n",
    "\n",
    "Cette cellule permet de charger toutes les fonctions mathématiques (librairie numpy) et d'affichage (librairie matplotlib) de Python."
   ]
  },
  {
   "cell_type": "code",
   "execution_count": 3,
   "metadata": {},
   "outputs": [
    {
     "name": "stdout",
     "output_type": "stream",
     "text": [
      "Populating the interactive namespace from numpy and matplotlib\n"
     ]
    },
    {
     "name": "stderr",
     "output_type": "stream",
     "text": [
      "/Users/mathias/opt/anaconda3/lib/python3.9/site-packages/IPython/core/magics/pylab.py:159: UserWarning: pylab import has clobbered these variables: ['norm']\n",
      "`%matplotlib` prevents importing * from pylab and numpy\n",
      "  warn(\"pylab import has clobbered these variables: %s\"  % clobbered +\n"
     ]
    }
   ],
   "source": [
    "%pylab inline"
   ]
  },
  {
   "cell_type": "markdown",
   "metadata": {},
   "source": [
    "## 2.1 Variables et leurs types, liste et np.array<a class=\"anchor\" id=\"section_2_1\"></a>"
   ]
  },
  {
   "cell_type": "markdown",
   "metadata": {},
   "source": [
    "### 2.1.1. Variable <a class=\"anchor\" id=\"section_2_1_1\"></a>\n",
    "\n",
    "Python connait plusieurs types de variables (cf cellule suivante). "
   ]
  },
  {
   "cell_type": "code",
   "execution_count": 4,
   "metadata": {},
   "outputs": [
    {
     "name": "stdout",
     "output_type": "stream",
     "text": [
      "a =  4 \t\t\t\t est de type <class 'int'>\n",
      "a =  3.5 \t\t\t est de type <class 'float'>\n",
      "a =  10000000.0 \t\t est de type <class 'float'>\n",
      "a =  3.141592653589793 \t\t est de type <class 'float'>\n",
      "a =  True \t\t\t est de type <class 'bool'>\n",
      "a =  Hello World! \t\t est de type <class 'str'>\n",
      "a =  [1, 2, 3] \t\t\t est de type <class 'list'>\n",
      "a =  (1.5, [1, 2], 'coucou') \t est de type <class 'tuple'>\n"
     ]
    }
   ],
   "source": [
    "#Entier\n",
    "a = 4\n",
    "print(\"a = \", a, \"\\t\\t\\t\\t est de type\", type(a))\n",
    "\n",
    "# Flottant\n",
    "a = 3.5\n",
    "print(\"a = \", a, \"\\t\\t\\t est de type\", type(a))\n",
    "a = 1e7 # Raccourci pour 10^7, --> float\n",
    "print(\"a = \", a, \"\\t\\t est de type\", type(a))\n",
    "a = pi # Python connait certaines variables standards\n",
    "print(\"a = \", a, \"\\t\\t est de type\", type(a))\n",
    "\n",
    "# Booléen\n",
    "a = True\n",
    "print(\"a = \", a, \"\\t\\t\\t est de type\", type(a))\n",
    "\n",
    "# String\n",
    "a = \"Hello World!\"\n",
    "print(\"a = \", a, \"\\t\\t est de type\", type(a))\n",
    "\n",
    "# Listes (taille variable)\n",
    "a = [1,2,3]\n",
    "print(\"a = \", a, \"\\t\\t\\t est de type\", type(a))\n",
    "\n",
    "# Tuples (taille fixe)\n",
    "a = (1.5, [1,2], \"coucou\")\n",
    "print(\"a = \", a, \"\\t est de type\", type(a))"
   ]
  },
  {
   "cell_type": "markdown",
   "metadata": {},
   "source": [
    "### 2.1.2. Liste   <a class=\"anchor\" id=\"section_2_1_2\"></a>\n",
    "On peut créer des listes vides, identifier les éléments d'une liste, considérer des sous-listes. \n",
    "Lisez les codes suivants."
   ]
  },
  {
   "cell_type": "code",
   "execution_count": null,
   "metadata": {},
   "outputs": [],
   "source": [
    "#La liste vide\n",
    "L = []\n",
    "print(\"La liste vide : L =\", L, \"\\n\")"
   ]
  },
  {
   "cell_type": "code",
   "execution_count": null,
   "metadata": {},
   "outputs": [],
   "source": [
    "L = [1,2,3,4,5]\n",
    "print(\"L =\", L)\n",
    "\n",
    "\n",
    "#Les indices en Python commencent à ZÉRO !\n",
    "print(\"Le premier élément est\", L[0]) \n",
    "\n",
    "\n",
    "\n",
    "#raccourci pour le dernier élément !\n",
    "print(\"Le dernier élément est\", L[-1]) \n",
    "\n",
    "\n",
    "\n",
    "# On peut aussi accéder à une sous liste \n",
    "print(\"L contient la sous liste\", L[1:4]) # Ici, [1:4] est un raccourci pour range(1,4), et vaut [1, 2, 3]"
   ]
  },
  {
   "cell_type": "code",
   "execution_count": 5,
   "metadata": {},
   "outputs": [
    {
     "name": "stdout",
     "output_type": "stream",
     "text": [
      "L = [1, 2, 3, 4, 5]\n",
      "L = [1, 2, 3, 4, 5, 100]\n"
     ]
    }
   ],
   "source": [
    "L = [1,2,3,4,5]\n",
    "print(\"L =\", L)\n",
    "\n",
    "# ma_liste.append()\n",
    "L.append(100)\n",
    "print(\"L =\", L)\n"
   ]
  },
  {
   "cell_type": "markdown",
   "metadata": {},
   "source": [
    "### 2.1.3. Type `array` :  <a class=\"anchor\" id=\"section_2_1_3\"></a>\n",
    "En plus de ces types de base, nous travaillons avec la librairie numpy, qui introduit le type array ($\\simeq$matrice)"
   ]
  },
  {
   "cell_type": "markdown",
   "metadata": {},
   "source": [
    "**Exercice 7** : importer la librairie numpy en utilisant le racourcis np"
   ]
  },
  {
   "cell_type": "code",
   "execution_count": 6,
   "metadata": {},
   "outputs": [],
   "source": [
    "# réponse pour l'exo7 \n",
    "import numpy as np\n",
    "\n"
   ]
  },
  {
   "cell_type": "markdown",
   "metadata": {},
   "source": [
    "**Exercice 8** : utiliser `np.array` définir une matrice $a$\n",
    "\n",
    "$a=\\begin{pmatrix}\n",
    "1 & 2 \\\\\n",
    "3 & 4 \\\\\n",
    "\\end{pmatrix}$\n",
    "\n",
    "et `print` $a$ et son type."
   ]
  },
  {
   "cell_type": "code",
   "execution_count": 15,
   "metadata": {},
   "outputs": [
    {
     "name": "stdout",
     "output_type": "stream",
     "text": [
      "[[1 2]\n",
      " [3 4]]\n"
     ]
    }
   ],
   "source": [
    "# Array (matrices)\n",
    "# réponse pour l'exo 8\n",
    "a = np.array([[1,2], [3,4]])\n",
    "print(a)\n",
    "\n",
    "\n"
   ]
  },
  {
   "cell_type": "markdown",
   "metadata": {},
   "source": [
    "## 2.2 Opérations de base<a class=\"anchor\" id=\"section_2_2\"></a>\n"
   ]
  },
  {
   "cell_type": "markdown",
   "metadata": {},
   "source": [
    "### 2.2.1 Opérations sur des nombres<a class=\"anchor\" id=\"section_2_2_1\"></a>\n",
    "\n",
    "Python connait les opérations `+,-,/,*`, et plein d'autres encore en utlisant le package `math` et `numpy`.\n",
    "\n",
    "Package `math`: https://docs.python.org/3/library/math.html"
   ]
  },
  {
   "cell_type": "markdown",
   "metadata": {},
   "source": [
    "**Exercice 9** : print $e$ et écrire un programme pour calculer $log(e)$"
   ]
  },
  {
   "cell_type": "code",
   "execution_count": 20,
   "metadata": {},
   "outputs": [
    {
     "name": "stdout",
     "output_type": "stream",
     "text": [
      "2.718281828459045\n",
      "1.0\n"
     ]
    }
   ],
   "source": [
    "# réponse pour l'exo 9\n",
    "import math\n",
    "print(e)\n",
    "print(log(e))\n",
    "\n",
    "\n",
    "\n"
   ]
  },
  {
   "cell_type": "markdown",
   "metadata": {},
   "source": [
    "### 2.2.2 Opérations sur une matrice<a class=\"anchor\" id=\"section_2_2_2\"></a>"
   ]
  },
  {
   "cell_type": "markdown",
   "metadata": {},
   "source": [
    "Python connait un certain nombre de matrices de référence. Nous utiliserons souvent les matrices suivantes."
   ]
  },
  {
   "cell_type": "code",
   "execution_count": 21,
   "metadata": {
    "scrolled": true
   },
   "outputs": [
    {
     "name": "stdout",
     "output_type": "stream",
     "text": [
      "A = \n",
      " [[0. 0. 0.]\n",
      " [0. 0. 0.]]\n",
      "\n",
      "B = \n",
      " [[1. 1. 1.]\n",
      " [1. 1. 1.]]\n",
      "\n",
      " A = \n",
      " [[1. 0. 0.]\n",
      " [0. 1. 0.]\n",
      " [0. 0. 1.]]\n"
     ]
    }
   ],
   "source": [
    "# La matrice nulle prend des dimensions en entrée :\n",
    "A = np.zeros([2,3]) #de taille 2 x 3.\n",
    "print (\"A = \\n\", A)\n",
    "\n",
    "# La matrice contenant uniquement des 1 :\n",
    "B = np.ones([2,3]) \n",
    "print (\"\\nB = \\n\", B)\n",
    "\n",
    "# La matrice identité est carrée et ne prend qu'un seul paramètre :\n",
    "A = np.eye(3) \n",
    "print(\"\\n A = \\n\", A)"
   ]
  },
  {
   "cell_type": "markdown",
   "metadata": {},
   "source": [
    "#### Produit matriciel avec Python\n",
    "**ATTENTION**, le produit de base de Python est le produit terme à terme, alors que le produit matriciel se fait avec `np.dot`."
   ]
  },
  {
   "cell_type": "markdown",
   "metadata": {},
   "source": [
    "**Exercice 10** : Quelle est votre remarque sur le résultat suivant?"
   ]
  },
  {
   "cell_type": "code",
   "execution_count": 22,
   "metadata": {},
   "outputs": [
    {
     "name": "stdout",
     "output_type": "stream",
     "text": [
      "a=\n",
      " [[1 2]\n",
      " [3 4]]\n",
      "b=\n",
      " [[1. 0.]\n",
      " [0. 1.]]\n",
      "Le résultat de a*b est \n",
      "  [[1. 0.]\n",
      " [0. 4.]]\n",
      "Le résultat de np.dot(a,b) est \n",
      " [[1. 2.]\n",
      " [3. 4.]]\n"
     ]
    }
   ],
   "source": [
    "#import numpy as np #si vous n'avez pas fait cette ligne avant \n",
    "\n",
    "a=np.array([[1,2],[3,4]])\n",
    "b=np.eye(2) \n",
    "\n",
    "print (\"a=\\n\", a)\n",
    "print (\"b=\\n\", b)\n",
    "\n",
    "print (\"Le résultat de a*b est \\n \", a*b )\n",
    "print (\"Le résultat de np.dot(a,b) est \\n\", np.dot(a,b))"
   ]
  },
  {
   "cell_type": "markdown",
   "metadata": {},
   "source": [
    "## 2.3 Boucles `for` et `if...else` en Python<a class=\"anchor\" id=\"section_2_3\"></a>\n",
    "\n",
    "Un code python est structuré par *l’indentation*.\n",
    "\n",
    "**ATTENTION** : Les indices en Python commencent à **ZÉRO** !\n",
    "\n",
    "Dans le code suivant, la commande `range(N)` renvoie la liste `[0, 1, ..., N-1]`."
   ]
  },
  {
   "cell_type": "markdown",
   "metadata": {},
   "source": [
    "**Exercice 11** : Écrire une boucle `for`, Print chaque `i` dans le (`in`) `range(10)`"
   ]
  },
  {
   "cell_type": "code",
   "execution_count": 25,
   "metadata": {},
   "outputs": [
    {
     "name": "stdout",
     "output_type": "stream",
     "text": [
      "0\n",
      "1\n",
      "2\n",
      "3\n",
      "4\n",
      "5\n",
      "6\n",
      "7\n",
      "8\n",
      "9\n"
     ]
    }
   ],
   "source": [
    "# réponse pour l'exo 11\n",
    "for i in range(10):\n",
    "    print(i)\n",
    "\n",
    "\n",
    "\n",
    "\n",
    "\n",
    "\n"
   ]
  },
  {
   "cell_type": "markdown",
   "metadata": {},
   "source": [
    "**Exercice 12** : Écrire un `if...else` structure conditionnelle. "
   ]
  },
  {
   "cell_type": "code",
   "execution_count": 27,
   "metadata": {},
   "outputs": [
    {
     "name": "stdout",
     "output_type": "stream",
     "text": [
      "non\n"
     ]
    }
   ],
   "source": [
    "# réponse pour l'exo 12\n",
    "a = 1\n",
    "if a > 2:\n",
    "    print('oui')\n",
    "else: \n",
    "    print('non')\n",
    "\n",
    "\n",
    "\n"
   ]
  },
  {
   "cell_type": "markdown",
   "metadata": {},
   "source": [
    "## 2.4 Définir votre fonction<a class=\"anchor\" id=\"section_2_4\"></a>"
   ]
  },
  {
   "cell_type": "markdown",
   "metadata": {},
   "source": [
    "Pour définir une fonction, Python utilise le mot-clé def. Si on souhaite que la fonction renvoie quelque chose, il faut utiliser le mot-clé return. Par exemple :"
   ]
  },
  {
   "cell_type": "code",
   "execution_count": 28,
   "metadata": {},
   "outputs": [
    {
     "name": "stdout",
     "output_type": "stream",
     "text": [
      "5\n"
     ]
    }
   ],
   "source": [
    "def my_function(x):\n",
    "    return x+3\n",
    "\n",
    "print (my_function(2))"
   ]
  },
  {
   "cell_type": "markdown",
   "metadata": {},
   "source": [
    "**Exercice 13** : Définir une fonction *carre_cube*. L'entrée de la fonction est un nombre, la sortie est composée de son carré et de son cube. Calculer ensuite carre_cube(2)."
   ]
  },
  {
   "cell_type": "code",
   "execution_count": 29,
   "metadata": {},
   "outputs": [
    {
     "name": "stdout",
     "output_type": "stream",
     "text": [
      "[4, 8]\n"
     ]
    }
   ],
   "source": [
    "# réponse pour l'exo 13\n",
    "def carre_cube(x):\n",
    "    return([x**2, x**3])\n",
    "print(carre_cube(2))\n",
    "\n",
    "\n",
    "\n"
   ]
  },
  {
   "cell_type": "markdown",
   "metadata": {},
   "source": [
    "## 2.5 Les graphiques<a class=\"anchor\" id=\"section_2_5\"></a>"
   ]
  },
  {
   "cell_type": "markdown",
   "metadata": {},
   "source": [
    "On utilise matplotlib pour tracer les graphiques.\n",
    "https://matplotlib.org/stable/tutorials/introductory/pyplot.html"
   ]
  },
  {
   "cell_type": "code",
   "execution_count": null,
   "metadata": {},
   "outputs": [],
   "source": [
    "import matplotlib.pyplot as plt"
   ]
  },
  {
   "cell_type": "markdown",
   "metadata": {},
   "source": [
    "La commande de base est `plt.plot(x,y)` où $x$ et $y$ sont des listes/array de même taille. En pratique, si on veut que $x$ représente l'intervalle $[a,b]$, on pourra utiliser la commande `linspace`."
   ]
  },
  {
   "cell_type": "markdown",
   "metadata": {},
   "source": [
    "**Exercice 14** : Tracer un courbe de la function de densité de la loi normale $\\mathcal{N}(0,1)$ sur [-5,5]. Vous pouvez utiliser `scipy.stats.norm`. \n",
    "https://docs.scipy.org/doc/scipy/reference/generated/scipy.stats.norm.html"
   ]
  },
  {
   "cell_type": "code",
   "execution_count": 52,
   "metadata": {},
   "outputs": [
    {
     "data": {
      "text/plain": [
       "Text(0.5, 1.0, 'norm pdf')"
      ]
     },
     "execution_count": 52,
     "metadata": {},
     "output_type": "execute_result"
    },
    {
     "data": {
      "image/png": "[encoded data removed]",
      "text/plain": [
       "<Figure size 432x288 with 1 Axes>"
      ]
     },
     "metadata": {
      "needs_background": "light"
     },
     "output_type": "display_data"
    }
   ],
   "source": [
    "# réponse pour l'exo 14\n",
    "from scipy.stats import norm\n",
    "import matplotlib.pyplot as plt\n",
    "fig, ax = plt.subplots(1, 1)\n",
    "x = np.linspace(norm.ppf(0.01),\n",
    "                norm.ppf(0.99), 100)\n",
    "ax.plot(x, norm.pdf(x), 'r-',lw=5, alpha=0.6)\n",
    "plt.title('norm pdf')\n",
    "\n",
    "\n",
    "\n"
   ]
  },
  {
   "cell_type": "markdown",
   "metadata": {},
   "source": [
    "**Exercice 15** : Tracer la densité de la loi normale $\\mathcal{N}(0, I_2)$ en dimension 2 sur [-3,3]$\\times$[-3,3].\n",
    "\n",
    "On va utliser `plot_surface`. Un exemple se trouve ici https://matplotlib.org/stable/gallery/mplot3d/surface3d.html\n",
    "\n",
    "Vous pouvez utiliser `scipy.stats.multivariate_normal`. \n",
    "https://docs.scipy.org/doc/scipy/reference/generated/scipy.stats.multivariate_normal.html"
   ]
  },
  {
   "cell_type": "code",
   "execution_count": null,
   "metadata": {},
   "outputs": [],
   "source": [
    "# réponse pour l'exo 15\n",
    "\n",
    "\n",
    "\n",
    "\n",
    "\n",
    "\n",
    "\n"
   ]
  },
  {
   "cell_type": "code",
   "execution_count": null,
   "metadata": {},
   "outputs": [],
   "source": []
  },
  {
   "cell_type": "code",
   "execution_count": null,
   "metadata": {},
   "outputs": [],
   "source": []
  }
 ],
 "metadata": {
  "kernelspec": {
   "display_name": "Python 3 (ipykernel)",
   "language": "python",
   "name": "python3"
  },
  "language_info": {
   "codemirror_mode": {
    "name": "ipython",
    "version": 3
   },
   "file_extension": ".py",
   "mimetype": "text/x-python",
   "name": "python",
   "nbconvert_exporter": "python",
   "pygments_lexer": "ipython3",
   "version": "3.9.7"
  }
 },
 "nbformat": 4,
 "nbformat_minor": 4
}
