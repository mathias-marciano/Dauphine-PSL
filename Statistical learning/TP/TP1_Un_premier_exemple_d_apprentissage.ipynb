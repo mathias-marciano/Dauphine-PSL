{
 "cells": [
  {
   "cell_type": "markdown",
   "metadata": {},
   "source": [
    "# TP1 Un premier exemple d'apprentissage\n",
    "\n",
    "\n",
    "### Table of Contents\n",
    "\n",
    "* [1. Par régression linéaire](#chapter1)\n",
    "* [2. Par régression polynomiale](#chapter2)\n",
    "   * [2.1 `PolynomialFeatures` pour les features de dimension 2](#section2_1)"
   ]
  },
  {
   "cell_type": "markdown",
   "metadata": {},
   "source": [
    "Dans les exercices suivants, les données que l'on va étudier sont "
   ]
  },
  {
   "cell_type": "code",
   "execution_count": 2,
   "metadata": {},
   "outputs": [],
   "source": [
    "import numpy as np\n",
    "import matplotlib.pyplot as plt\n",
    "\n",
    "np.random.seed(100)\n",
    "size=100\n",
    "x = np.sort(np.random.uniform(-5, 5, size))\n",
    "X = x.reshape(-1, 1)\n",
    "y = 0.5 + x**2 + x + 2 + np.random.normal(0, 2, size)"
   ]
  },
  {
   "cell_type": "markdown",
   "metadata": {},
   "source": [
    "**Exercice 1** : Exécuter la prochaine cellule. Constater la forme de données. "
   ]
  },
  {
   "cell_type": "code",
   "execution_count": 3,
   "metadata": {},
   "outputs": [
    {
     "data": {
      "image/png": "[encoded data removed]",
      "text/plain": [
       "<Figure size 432x288 with 1 Axes>"
      ]
     },
     "metadata": {
      "needs_background": "light"
     },
     "output_type": "display_data"
    }
   ],
   "source": [
    "plt.scatter(x, y)\n",
    "plt.show()"
   ]
  },
  {
   "cell_type": "markdown",
   "metadata": {},
   "source": [
    "Le but des prochains exercices est d'*apprendre* une relation entre $X$ et $y$, c-à-d de chercher un modèle $\\hat{f}$ telle que $\\hat{y}:=\\hat{f}(X)$ soit proche de $y$ au sens de la perte quadratique."
   ]
  },
  {
   "cell_type": "markdown",
   "metadata": {},
   "source": [
    "**Exercice 1** : \n",
    "1. Quelle variable est le *feature/input/covariable*? \n",
    "2. Quelle variable est la *variable dépendante/label/outcome/target*? \n",
    "3. Quelle est la dimension de $X$? Quelle est la taille de l'échantillon? \n"
   ]
  },
  {
   "cell_type": "code",
   "execution_count": 4,
   "metadata": {},
   "outputs": [
    {
     "data": {
      "text/plain": [
       "(100,)"
      ]
     },
     "execution_count": 4,
     "metadata": {},
     "output_type": "execute_result"
    }
   ],
   "source": [
    "y.shape"
   ]
  },
  {
   "cell_type": "markdown",
   "metadata": {},
   "source": [
    "Réponse pour exercice 1 :\n",
    "\n",
    "1. La variable input est x\n",
    "\n",
    "2. La variable target est y\n",
    "\n",
    "3. La dimension de X est 100 x 1. La taille de l'échantillon est de 100\n"
   ]
  },
  {
   "cell_type": "markdown",
   "metadata": {},
   "source": [
    "## 1. Exemple d'apprentissage par régression linéaire <a class=\"anchor\" id=\"chapter1\"></a>\n",
    "\n"
   ]
  },
  {
   "cell_type": "markdown",
   "metadata": {},
   "source": [
    "On va d'abord utiliser la régression linéaire pour modéliser la relation entre $X$ et $y$. On va donc chercher $a$ et $b$ telle que $\\hat{f}(x)=a\\cdot x+b$ soit proche de $y$ au sens de perte quadratique.\n",
    "\n",
    "On va utliser le package `sklearn.linear_model.LinearRegression`. \n",
    "\n",
    "(Ref: https://scikit-learn.org/stable/modules/generated/sklearn.linear_model.LinearRegression.html) <-- Lisez bien l'exemple de cette page"
   ]
  },
  {
   "cell_type": "markdown",
   "metadata": {},
   "source": [
    "**Exercice 2** : Définir un modèle de régression linéaire, nommé par `lin_reg`."
   ]
  },
  {
   "cell_type": "code",
   "execution_count": 5,
   "metadata": {},
   "outputs": [],
   "source": [
    "# Réponse pour l'exercice 2\n",
    "from sklearn.linear_model import LinearRegression\n",
    "lin_reg = LinearRegression()\n",
    "\n"
   ]
  },
  {
   "cell_type": "markdown",
   "metadata": {},
   "source": [
    "**Exercice 3** : Entraîner le modèle de régression linéaire `lin_reg` sur $X$, y. Si l'apprentissage est réussie, `lin_reg` stockera le modèle."
   ]
  },
  {
   "cell_type": "code",
   "execution_count": 6,
   "metadata": {},
   "outputs": [],
   "source": [
    "# Réponse pour l'exercice 3\n",
    "lin_reg = lin_reg.fit(X,y)\n"
   ]
  },
  {
   "cell_type": "markdown",
   "metadata": {},
   "source": [
    "**Exercice 4** : \n",
    "\n",
    "(1) Tracer le modèle linéaire qu'on a entraîné. Hint: on pourra utliser `lin_reg.predict`. \n",
    "\n",
    "(2) Prédire la valeur de $y$ pour un nouveau x=1 en utilisant le modèle `lin_reg`."
   ]
  },
  {
   "cell_type": "code",
   "execution_count": 7,
   "metadata": {},
   "outputs": [
    {
     "name": "stdout",
     "output_type": "stream",
     "text": [
      "[11.78134477]\n"
     ]
    },
    {
     "data": {
      "image/png": "[encoded data removed]",
      "text/plain": [
       "<Figure size 432x288 with 1 Axes>"
      ]
     },
     "metadata": {
      "needs_background": "light"
     },
     "output_type": "display_data"
    }
   ],
   "source": [
    "# Réponse pour l'exercice 4\n",
    "plt.scatter(x,y)\n",
    "plt.plot(X, lin_reg.predict(X), color='r')\n",
    "\n",
    "print(lin_reg.predict(np.array([[1]])))\n",
    "\n",
    "\n"
   ]
  },
  {
   "cell_type": "markdown",
   "metadata": {},
   "source": [
    "**Exercice 5** : Quels sont les coefficient $a$ et $b$ obtenus par `lin_reg`? "
   ]
  },
  {
   "cell_type": "code",
   "execution_count": 8,
   "metadata": {},
   "outputs": [
    {
     "name": "stdout",
     "output_type": "stream",
     "text": [
      "a =  [1.10192995]\n",
      "L'intercept vaut :  10.679414827201473\n"
     ]
    }
   ],
   "source": [
    "# Réponse pour l'exercice 5\n",
    "print(\"a = \", lin_reg.coef_)\n",
    "print(\"L'intercept vaut : \", lin_reg.intercept_)\n",
    "\n",
    "\n",
    "\n",
    "\n",
    "\n"
   ]
  },
  {
   "cell_type": "markdown",
   "metadata": {},
   "source": [
    "**Exercice 6** : Calculer l'erreur quadratique de `lin_reg` sur les données. Celle-ci est fournie par $e=\\sum_{i=1}^{100}(y_i-\\hat{y}_i)^2$."
   ]
  },
  {
   "cell_type": "code",
   "execution_count": 9,
   "metadata": {},
   "outputs": [
    {
     "name": "stdout",
     "output_type": "stream",
     "text": [
      "6221.496999209761\n"
     ]
    }
   ],
   "source": [
    "# Réponse pour l'exercice 6\n",
    "y_hat = lin_reg.predict(X)\n",
    "e = ((y - y_hat)**2).sum()\n",
    "print(e)\n",
    "\n",
    "\n",
    "\n"
   ]
  },
  {
   "cell_type": "markdown",
   "metadata": {},
   "source": [
    "**Exercice 7** : Décrire le fonctionnement de la prochaine ligne. Indice: chercher sur la page  https://scikit-learn.org/stable/modules/generated/sklearn.linear_model.LinearRegression.html."
   ]
  },
  {
   "cell_type": "code",
   "execution_count": 10,
   "metadata": {},
   "outputs": [
    {
     "data": {
      "text/plain": [
       "0.14035106571720624"
      ]
     },
     "execution_count": 10,
     "metadata": {},
     "output_type": "execute_result"
    }
   ],
   "source": [
    "lin_reg.score(X, y)\n",
    "#Retourne le R^2\n"
   ]
  },
  {
   "cell_type": "markdown",
   "metadata": {},
   "source": [
    " Réponse pour l'exercice 7:\n",
    " \n",
    " \n",
    " \n",
    " \n",
    " \n",
    " \n",
    " \n",
    " \n",
    " \n",
    "\n",
    " "
   ]
  },
  {
   "cell_type": "markdown",
   "metadata": {},
   "source": [
    "**Exercice 8** : Quel est le fonctionnement de `X = x.reshape(-1, 1)`? Dans quelles conditions va-t'on utiliser $-1$ dans reshape? Si on entraîne le modèle sans passer par cette étape, que va-t'il se passer? Essayons `lin_reg.fit(x,y)` .\n"
   ]
  },
  {
   "cell_type": "code",
   "execution_count": 11,
   "metadata": {},
   "outputs": [
    {
     "ename": "ValueError",
     "evalue": "Expected 2D array, got 1D array instead:\narray=[-4.95281144 -4.94311493 -4.84745029 -4.79560868 -4.63523943 -4.55137718\n -4.40058011 -4.11539827 -4.07944397 -3.94852315 -3.9162311  -3.89212099\n -3.78430879 -3.6329341  -3.57399686 -3.28058987 -3.26391998 -3.24589546\n -3.2191901  -3.1467178  -2.99876393 -2.95654723 -2.90797878 -2.89973422\n -2.80302507 -2.62305791 -2.53464119 -2.49304771 -2.47573647 -2.45742482\n -2.25926253 -2.23234939 -2.21630615 -2.1410431  -2.03206249 -1.87359702\n -1.86933558 -1.64403558 -1.6388805  -1.59809785 -1.59614777 -1.45204388\n -1.40492156 -1.36811996 -1.27167954 -1.23747546 -1.18056555 -1.1223372\n -1.04964068 -0.75482409 -0.68295816 -0.4302087  -0.36501981  0.0543143\n  0.08698893  0.28035223  0.40404575  0.43404942  0.44684878  0.75093329\n  0.76901499  0.81842192  0.92805401  0.97973684  0.98843377  0.98858946\n  1.02296658  1.03804539  1.29941876  1.30183936  1.34036683  1.41101259\n  1.57624806  1.5894007   1.70749085  2.31300753  2.42479689  2.54348995\n  2.69115171  2.95662508  3.05450537  3.11683149  3.16224749  3.17649379\n  3.25852755  3.44776132  3.52395088  3.84853293  3.90411563  3.90545945\n  3.91321954  4.33841299  4.4002982   4.46379881  4.570126    4.66609694\n  4.75006494  4.78623785  4.80920857  4.92158037].\nReshape your data either using array.reshape(-1, 1) if your data has a single feature or array.reshape(1, -1) if it contains a single sample.",
     "output_type": "error",
     "traceback": [
      "\u001b[0;31m---------------------------------------------------------------------------\u001b[0m",
      "\u001b[0;31mValueError\u001b[0m                                Traceback (most recent call last)",
      "\u001b[0;32m/var/folders/z1/x1_5kkp14nz74hltqkr5dzn00000gn/T/ipykernel_3066/357126809.py\u001b[0m in \u001b[0;36m<module>\u001b[0;34m\u001b[0m\n\u001b[0;32m----> 1\u001b[0;31m \u001b[0mlin_reg\u001b[0m\u001b[0;34m.\u001b[0m\u001b[0mfit\u001b[0m\u001b[0;34m(\u001b[0m\u001b[0mx\u001b[0m\u001b[0;34m,\u001b[0m\u001b[0my\u001b[0m\u001b[0;34m)\u001b[0m\u001b[0;34m\u001b[0m\u001b[0;34m\u001b[0m\u001b[0m\n\u001b[0m\u001b[1;32m      2\u001b[0m \u001b[0;34m\u001b[0m\u001b[0m\n\u001b[1;32m      3\u001b[0m \u001b[0;31m# Réponse pour l'exercice 8\u001b[0m\u001b[0;34m\u001b[0m\u001b[0;34m\u001b[0m\u001b[0m\n\u001b[1;32m      4\u001b[0m \u001b[0;34m\u001b[0m\u001b[0m\n\u001b[1;32m      5\u001b[0m \u001b[0;34m\u001b[0m\u001b[0m\n",
      "\u001b[0;32m~/opt/anaconda3/lib/python3.9/site-packages/sklearn/linear_model/_base.py\u001b[0m in \u001b[0;36mfit\u001b[0;34m(self, X, y, sample_weight)\u001b[0m\n\u001b[1;32m    516\u001b[0m         \u001b[0maccept_sparse\u001b[0m \u001b[0;34m=\u001b[0m \u001b[0;32mFalse\u001b[0m \u001b[0;32mif\u001b[0m \u001b[0mself\u001b[0m\u001b[0;34m.\u001b[0m\u001b[0mpositive\u001b[0m \u001b[0;32melse\u001b[0m \u001b[0;34m[\u001b[0m\u001b[0;34m'csr'\u001b[0m\u001b[0;34m,\u001b[0m \u001b[0;34m'csc'\u001b[0m\u001b[0;34m,\u001b[0m \u001b[0;34m'coo'\u001b[0m\u001b[0;34m]\u001b[0m\u001b[0;34m\u001b[0m\u001b[0;34m\u001b[0m\u001b[0m\n\u001b[1;32m    517\u001b[0m \u001b[0;34m\u001b[0m\u001b[0m\n\u001b[0;32m--> 518\u001b[0;31m         X, y = self._validate_data(X, y, accept_sparse=accept_sparse,\n\u001b[0m\u001b[1;32m    519\u001b[0m                                    y_numeric=True, multi_output=True)\n\u001b[1;32m    520\u001b[0m \u001b[0;34m\u001b[0m\u001b[0m\n",
      "\u001b[0;32m~/opt/anaconda3/lib/python3.9/site-packages/sklearn/base.py\u001b[0m in \u001b[0;36m_validate_data\u001b[0;34m(self, X, y, reset, validate_separately, **check_params)\u001b[0m\n\u001b[1;32m    431\u001b[0m                 \u001b[0my\u001b[0m \u001b[0;34m=\u001b[0m \u001b[0mcheck_array\u001b[0m\u001b[0;34m(\u001b[0m\u001b[0my\u001b[0m\u001b[0;34m,\u001b[0m \u001b[0;34m**\u001b[0m\u001b[0mcheck_y_params\u001b[0m\u001b[0;34m)\u001b[0m\u001b[0;34m\u001b[0m\u001b[0;34m\u001b[0m\u001b[0m\n\u001b[1;32m    432\u001b[0m             \u001b[0;32melse\u001b[0m\u001b[0;34m:\u001b[0m\u001b[0;34m\u001b[0m\u001b[0;34m\u001b[0m\u001b[0m\n\u001b[0;32m--> 433\u001b[0;31m                 \u001b[0mX\u001b[0m\u001b[0;34m,\u001b[0m \u001b[0my\u001b[0m \u001b[0;34m=\u001b[0m \u001b[0mcheck_X_y\u001b[0m\u001b[0;34m(\u001b[0m\u001b[0mX\u001b[0m\u001b[0;34m,\u001b[0m \u001b[0my\u001b[0m\u001b[0;34m,\u001b[0m \u001b[0;34m**\u001b[0m\u001b[0mcheck_params\u001b[0m\u001b[0;34m)\u001b[0m\u001b[0;34m\u001b[0m\u001b[0;34m\u001b[0m\u001b[0m\n\u001b[0m\u001b[1;32m    434\u001b[0m             \u001b[0mout\u001b[0m \u001b[0;34m=\u001b[0m \u001b[0mX\u001b[0m\u001b[0;34m,\u001b[0m \u001b[0my\u001b[0m\u001b[0;34m\u001b[0m\u001b[0;34m\u001b[0m\u001b[0m\n\u001b[1;32m    435\u001b[0m \u001b[0;34m\u001b[0m\u001b[0m\n",
      "\u001b[0;32m~/opt/anaconda3/lib/python3.9/site-packages/sklearn/utils/validation.py\u001b[0m in \u001b[0;36minner_f\u001b[0;34m(*args, **kwargs)\u001b[0m\n\u001b[1;32m     61\u001b[0m             \u001b[0mextra_args\u001b[0m \u001b[0;34m=\u001b[0m \u001b[0mlen\u001b[0m\u001b[0;34m(\u001b[0m\u001b[0margs\u001b[0m\u001b[0;34m)\u001b[0m \u001b[0;34m-\u001b[0m \u001b[0mlen\u001b[0m\u001b[0;34m(\u001b[0m\u001b[0mall_args\u001b[0m\u001b[0;34m)\u001b[0m\u001b[0;34m\u001b[0m\u001b[0;34m\u001b[0m\u001b[0m\n\u001b[1;32m     62\u001b[0m             \u001b[0;32mif\u001b[0m \u001b[0mextra_args\u001b[0m \u001b[0;34m<=\u001b[0m \u001b[0;36m0\u001b[0m\u001b[0;34m:\u001b[0m\u001b[0;34m\u001b[0m\u001b[0;34m\u001b[0m\u001b[0m\n\u001b[0;32m---> 63\u001b[0;31m                 \u001b[0;32mreturn\u001b[0m \u001b[0mf\u001b[0m\u001b[0;34m(\u001b[0m\u001b[0;34m*\u001b[0m\u001b[0margs\u001b[0m\u001b[0;34m,\u001b[0m \u001b[0;34m**\u001b[0m\u001b[0mkwargs\u001b[0m\u001b[0;34m)\u001b[0m\u001b[0;34m\u001b[0m\u001b[0;34m\u001b[0m\u001b[0m\n\u001b[0m\u001b[1;32m     64\u001b[0m \u001b[0;34m\u001b[0m\u001b[0m\n\u001b[1;32m     65\u001b[0m             \u001b[0;31m# extra_args > 0\u001b[0m\u001b[0;34m\u001b[0m\u001b[0;34m\u001b[0m\u001b[0m\n",
      "\u001b[0;32m~/opt/anaconda3/lib/python3.9/site-packages/sklearn/utils/validation.py\u001b[0m in \u001b[0;36mcheck_X_y\u001b[0;34m(X, y, accept_sparse, accept_large_sparse, dtype, order, copy, force_all_finite, ensure_2d, allow_nd, multi_output, ensure_min_samples, ensure_min_features, y_numeric, estimator)\u001b[0m\n\u001b[1;32m    869\u001b[0m         \u001b[0;32mraise\u001b[0m \u001b[0mValueError\u001b[0m\u001b[0;34m(\u001b[0m\u001b[0;34m\"y cannot be None\"\u001b[0m\u001b[0;34m)\u001b[0m\u001b[0;34m\u001b[0m\u001b[0;34m\u001b[0m\u001b[0m\n\u001b[1;32m    870\u001b[0m \u001b[0;34m\u001b[0m\u001b[0m\n\u001b[0;32m--> 871\u001b[0;31m     X = check_array(X, accept_sparse=accept_sparse,\n\u001b[0m\u001b[1;32m    872\u001b[0m                     \u001b[0maccept_large_sparse\u001b[0m\u001b[0;34m=\u001b[0m\u001b[0maccept_large_sparse\u001b[0m\u001b[0;34m,\u001b[0m\u001b[0;34m\u001b[0m\u001b[0;34m\u001b[0m\u001b[0m\n\u001b[1;32m    873\u001b[0m                     \u001b[0mdtype\u001b[0m\u001b[0;34m=\u001b[0m\u001b[0mdtype\u001b[0m\u001b[0;34m,\u001b[0m \u001b[0morder\u001b[0m\u001b[0;34m=\u001b[0m\u001b[0morder\u001b[0m\u001b[0;34m,\u001b[0m \u001b[0mcopy\u001b[0m\u001b[0;34m=\u001b[0m\u001b[0mcopy\u001b[0m\u001b[0;34m,\u001b[0m\u001b[0;34m\u001b[0m\u001b[0;34m\u001b[0m\u001b[0m\n",
      "\u001b[0;32m~/opt/anaconda3/lib/python3.9/site-packages/sklearn/utils/validation.py\u001b[0m in \u001b[0;36minner_f\u001b[0;34m(*args, **kwargs)\u001b[0m\n\u001b[1;32m     61\u001b[0m             \u001b[0mextra_args\u001b[0m \u001b[0;34m=\u001b[0m \u001b[0mlen\u001b[0m\u001b[0;34m(\u001b[0m\u001b[0margs\u001b[0m\u001b[0;34m)\u001b[0m \u001b[0;34m-\u001b[0m \u001b[0mlen\u001b[0m\u001b[0;34m(\u001b[0m\u001b[0mall_args\u001b[0m\u001b[0;34m)\u001b[0m\u001b[0;34m\u001b[0m\u001b[0;34m\u001b[0m\u001b[0m\n\u001b[1;32m     62\u001b[0m             \u001b[0;32mif\u001b[0m \u001b[0mextra_args\u001b[0m \u001b[0;34m<=\u001b[0m \u001b[0;36m0\u001b[0m\u001b[0;34m:\u001b[0m\u001b[0;34m\u001b[0m\u001b[0;34m\u001b[0m\u001b[0m\n\u001b[0;32m---> 63\u001b[0;31m                 \u001b[0;32mreturn\u001b[0m \u001b[0mf\u001b[0m\u001b[0;34m(\u001b[0m\u001b[0;34m*\u001b[0m\u001b[0margs\u001b[0m\u001b[0;34m,\u001b[0m \u001b[0;34m**\u001b[0m\u001b[0mkwargs\u001b[0m\u001b[0;34m)\u001b[0m\u001b[0;34m\u001b[0m\u001b[0;34m\u001b[0m\u001b[0m\n\u001b[0m\u001b[1;32m     64\u001b[0m \u001b[0;34m\u001b[0m\u001b[0m\n\u001b[1;32m     65\u001b[0m             \u001b[0;31m# extra_args > 0\u001b[0m\u001b[0;34m\u001b[0m\u001b[0;34m\u001b[0m\u001b[0m\n",
      "\u001b[0;32m~/opt/anaconda3/lib/python3.9/site-packages/sklearn/utils/validation.py\u001b[0m in \u001b[0;36mcheck_array\u001b[0;34m(array, accept_sparse, accept_large_sparse, dtype, order, copy, force_all_finite, ensure_2d, allow_nd, ensure_min_samples, ensure_min_features, estimator)\u001b[0m\n\u001b[1;32m    692\u001b[0m             \u001b[0;31m# If input is 1D raise error\u001b[0m\u001b[0;34m\u001b[0m\u001b[0;34m\u001b[0m\u001b[0m\n\u001b[1;32m    693\u001b[0m             \u001b[0;32mif\u001b[0m \u001b[0marray\u001b[0m\u001b[0;34m.\u001b[0m\u001b[0mndim\u001b[0m \u001b[0;34m==\u001b[0m \u001b[0;36m1\u001b[0m\u001b[0;34m:\u001b[0m\u001b[0;34m\u001b[0m\u001b[0;34m\u001b[0m\u001b[0m\n\u001b[0;32m--> 694\u001b[0;31m                 raise ValueError(\n\u001b[0m\u001b[1;32m    695\u001b[0m                     \u001b[0;34m\"Expected 2D array, got 1D array instead:\\narray={}.\\n\"\u001b[0m\u001b[0;34m\u001b[0m\u001b[0;34m\u001b[0m\u001b[0m\n\u001b[1;32m    696\u001b[0m                     \u001b[0;34m\"Reshape your data either using array.reshape(-1, 1) if \"\u001b[0m\u001b[0;34m\u001b[0m\u001b[0;34m\u001b[0m\u001b[0m\n",
      "\u001b[0;31mValueError\u001b[0m: Expected 2D array, got 1D array instead:\narray=[-4.95281144 -4.94311493 -4.84745029 -4.79560868 -4.63523943 -4.55137718\n -4.40058011 -4.11539827 -4.07944397 -3.94852315 -3.9162311  -3.89212099\n -3.78430879 -3.6329341  -3.57399686 -3.28058987 -3.26391998 -3.24589546\n -3.2191901  -3.1467178  -2.99876393 -2.95654723 -2.90797878 -2.89973422\n -2.80302507 -2.62305791 -2.53464119 -2.49304771 -2.47573647 -2.45742482\n -2.25926253 -2.23234939 -2.21630615 -2.1410431  -2.03206249 -1.87359702\n -1.86933558 -1.64403558 -1.6388805  -1.59809785 -1.59614777 -1.45204388\n -1.40492156 -1.36811996 -1.27167954 -1.23747546 -1.18056555 -1.1223372\n -1.04964068 -0.75482409 -0.68295816 -0.4302087  -0.36501981  0.0543143\n  0.08698893  0.28035223  0.40404575  0.43404942  0.44684878  0.75093329\n  0.76901499  0.81842192  0.92805401  0.97973684  0.98843377  0.98858946\n  1.02296658  1.03804539  1.29941876  1.30183936  1.34036683  1.41101259\n  1.57624806  1.5894007   1.70749085  2.31300753  2.42479689  2.54348995\n  2.69115171  2.95662508  3.05450537  3.11683149  3.16224749  3.17649379\n  3.25852755  3.44776132  3.52395088  3.84853293  3.90411563  3.90545945\n  3.91321954  4.33841299  4.4002982   4.46379881  4.570126    4.66609694\n  4.75006494  4.78623785  4.80920857  4.92158037].\nReshape your data either using array.reshape(-1, 1) if your data has a single feature or array.reshape(1, -1) if it contains a single sample."
     ]
    }
   ],
   "source": [
    "lin_reg.fit(x,y)\n",
    "\n",
    "# Réponse pour l'exercice 8\n",
    "\n",
    "\n",
    "\n",
    "\n",
    "\n",
    "\n",
    "\n"
   ]
  },
  {
   "cell_type": "markdown",
   "metadata": {},
   "source": [
    "## 2. Exemple d'apprentissage par régression polynomiale <a class=\"anchor\" id=\"chapter2\"></a>\n"
   ]
  },
  {
   "cell_type": "markdown",
   "metadata": {},
   "source": [
    "Maintenant passons à la régression polynomiale de degré 2 pour modéliser la relation entre $X$ et $y$. Ici, on cherche donc $a$, $b$ et $c$ telle que $\\hat{f}(x)=a\\cdot x^{2}+b\\cdot x +c$ soit proche de $y$ au sens de perte quadratique.\n",
    "\n",
    "On va donc ajouter un feature/une covariable $x^2$ puis faire la régression linéaire sur la nouvelle covariable $X=(x^2, x)$"
   ]
  },
  {
   "cell_type": "markdown",
   "metadata": {},
   "source": [
    "**Exercice 9** : Créer une nouvelle matrice `X2` de dimension 100$\\times$2 donc la première colonne est $x^2$, la deuxème colonne est $x$."
   ]
  },
  {
   "cell_type": "code",
   "execution_count": 12,
   "metadata": {},
   "outputs": [],
   "source": [
    "# Réponse pour l'exercice 9\n",
    "x2 = x**2\n",
    "X2 = np.hstack([X**2, X])\n"
   ]
  },
  {
   "cell_type": "markdown",
   "metadata": {},
   "source": [
    "**Exercice 10** : Entraîner un nouveau modèle, nommé `poly2_reg`, pour la régression linéaire entre `X2` et `y` (qui est donc la régression polynomiale de degré 2 entre `X` et `y`)."
   ]
  },
  {
   "cell_type": "code",
   "execution_count": 13,
   "metadata": {},
   "outputs": [],
   "source": [
    "# Réponse pour l'exercice 10\n",
    "poly2_reg = LinearRegression()\n",
    "poly2_reg = poly2_reg.fit(X2, y)\n",
    "\n",
    "\n",
    "\n"
   ]
  },
  {
   "cell_type": "markdown",
   "metadata": {},
   "source": [
    "**Exercice 11** : \n",
    "\n",
    "(1) Tracer `poly2_reg` le modèle polynomiale de degré 2 qu'on a entraîné. Indice: on pourra utliser `poly2_reg.predict`. \n",
    "\n",
    "(2) Prédire la valeur de $y$ pour un nouveau x=1 en utilisant le modèle `poly2_reg`."
   ]
  },
  {
   "cell_type": "code",
   "execution_count": 14,
   "metadata": {},
   "outputs": [
    {
     "data": {
      "image/png": "[encoded data removed]",
      "text/plain": [
       "<Figure size 432x288 with 1 Axes>"
      ]
     },
     "metadata": {
      "needs_background": "light"
     },
     "output_type": "display_data"
    },
    {
     "name": "stdout",
     "output_type": "stream",
     "text": [
      "La valeur de y pour x=1 est [4.23275361]\n"
     ]
    }
   ],
   "source": [
    "# Réponse pour l'exercice 11\n",
    "\n",
    "plt.scatter(x, y)\n",
    "\n",
    "#ajouter votre code ici\n",
    "plt.plot(X, poly2_reg.predict(X2), color='r')\n",
    "\n",
    "\n",
    "plt.show()\n",
    "y1 = np.array([1,1])\n",
    "print(\"La valeur de y pour x=1 est\", poly2_reg.predict(np.array([[1,1]]))) #ajouter votre code ici, attention l'input doit contenir 1^2=1 et aussi 1)\n",
    "\n",
    "       "
   ]
  },
  {
   "cell_type": "markdown",
   "metadata": {},
   "source": [
    "**Exercice 12** : Quels sont les coefficients $a$, $b$, $c$ dans $\\hat{f}(x)=a\\cdot x^{2}+b\\cdot x +c$?"
   ]
  },
  {
   "cell_type": "code",
   "execution_count": 15,
   "metadata": {},
   "outputs": [
    {
     "name": "stdout",
     "output_type": "stream",
     "text": [
      "La valeur de a est :  1.0048091317822476\n",
      "La valeur de b est :  1.0461889346692972\n",
      "La valeur de c est :  2.18175554289782\n"
     ]
    }
   ],
   "source": [
    "# Réponse pour l'exercice 12\n",
    "a,b = poly2_reg.coef_\n",
    "print(\"La valeur de a est : \", a)\n",
    "print(\"La valeur de b est : \", b)\n",
    "print(\"La valeur de c est : \", poly2_reg.intercept_)\n",
    "\n",
    "\n"
   ]
  },
  {
   "cell_type": "markdown",
   "metadata": {},
   "source": [
    "**Exercice 13** : Calculez l'erreur quadratique de `poly2_reg` sur les données. Comparez avec l'erreur de `lin_reg` de l'exercice 6."
   ]
  },
  {
   "cell_type": "code",
   "execution_count": 16,
   "metadata": {},
   "outputs": [
    {
     "name": "stdout",
     "output_type": "stream",
     "text": [
      "462.8847596301938\n"
     ]
    }
   ],
   "source": [
    "# Réponse pour l'exercice 13\n",
    "y_hat = poly2_reg.predict(X2)\n",
    "e = ((y - y_hat)**2).sum()\n",
    "print(e)"
   ]
  },
  {
   "cell_type": "markdown",
   "metadata": {},
   "source": [
    "Le passage $X\\rightarrow [X^2, X]$ peut également être réalisé par `sklearn.preprocessing.PolynomialFeatures`\n",
    "\n",
    "https://scikit-learn.org/stable/modules/generated/sklearn.preprocessing.PolynomialFeatures.html\n",
    "\n",
    "(Attention à l'ordre de `PolynomialFeatures` : $X\\rightarrow [1, X, X^2]$ )"
   ]
  },
  {
   "cell_type": "markdown",
   "metadata": {},
   "source": [
    "**Exercice 13** : Lire attentivement le code de la cellule suivante, puis s'en inspirer pour écrire un modèle de régression polynomiale de degré 20. "
   ]
  },
  {
   "cell_type": "code",
   "execution_count": 17,
   "metadata": {},
   "outputs": [
    {
     "data": {
      "image/png": "[encoded data removed]",
      "text/plain": [
       "<Figure size 432x288 with 1 Axes>"
      ]
     },
     "metadata": {
      "needs_background": "light"
     },
     "output_type": "display_data"
    },
    {
     "name": "stdout",
     "output_type": "stream",
     "text": [
      "[0.         1.04618893 1.00480913] 2.181755542897813\n",
      "Les coefficients obtenus sont a= 0.0 , b= 1.0461889346692976 and c= 2.181755542897813\n"
     ]
    }
   ],
   "source": [
    "# Procédure de X--> [1, X, X^2] par PolynomialFeatures\n",
    "from sklearn.preprocessing import PolynomialFeatures\n",
    "poly2 = PolynomialFeatures(degree=2)    \n",
    "poly2.fit(X) \n",
    "X2_bis = poly2.transform(X) #Contient [1,X,X^2]\n",
    "\n",
    "\n",
    "# Entraître le modèle de regression sur X2_bis et y\n",
    "poly2_bis_reg = LinearRegression()\n",
    "poly2_bis_reg.fit(X2_bis, y)\n",
    "\n",
    "# Tracer le modèle poly2_bis_reg\n",
    "plt.scatter(x, y)\n",
    "plt.plot(x, poly2_bis_reg.predict(X2_bis), color='r')\n",
    "plt.show()\n",
    "\n",
    "# Montrer les coefficient qu'on a trouvé (Attention à l'ordre de coefficient)\n",
    "print (poly2_bis_reg.coef_, poly2_bis_reg.intercept_)\n",
    "print (\"Les coefficients obtenus sont a=\",poly2_bis_reg.coef_[2],\", b=\",poly2_bis_reg.coef_[1],\"and c=\", poly2_bis_reg.intercept_ )\n",
    "\n",
    "\n"
   ]
  },
  {
   "cell_type": "code",
   "execution_count": 18,
   "metadata": {},
   "outputs": [
    {
     "data": {
      "image/png": "[encoded data removed]",
      "text/plain": [
       "<Figure size 432x288 with 1 Axes>"
      ]
     },
     "metadata": {
      "needs_background": "light"
     },
     "output_type": "display_data"
    },
    {
     "name": "stdout",
     "output_type": "stream",
     "text": [
      "[ 0.00000000e+00 -9.79589223e-01  2.66160450e+00  4.44446757e+00\n",
      " -1.18713038e+00 -2.80972923e+00  2.38879910e-01  8.24506395e-01\n",
      "  2.01576907e-02 -1.31915538e-01 -1.50426943e-02  1.24350381e-02\n",
      "  2.49173382e-03 -7.10453586e-04 -2.05705858e-04  2.41914496e-05\n",
      "  9.28659623e-06 -4.51663675e-07 -2.18806409e-07  3.55813565e-09\n",
      "  2.10614862e-09] 2.0041298315907436\n"
     ]
    }
   ],
   "source": [
    "# Réponse pour l'exercice 13\n",
    "# Procédure de X--> [1, X, X^2] par PolynomialFeatures\n",
    "from sklearn.preprocessing import PolynomialFeatures\n",
    "poly2 = PolynomialFeatures(degree=20)    \n",
    "poly2.fit(X) \n",
    "X2_bis = poly2.transform(X) #Contient [1,X,X^2]\n",
    "\n",
    "\n",
    "# Entraître le modèle de regression sur X2_bis et y\n",
    "poly2_bis_reg = LinearRegression()\n",
    "poly2_bis_reg.fit(X2_bis, y)\n",
    "\n",
    "# Tracer le modèle poly2_bis_reg\n",
    "plt.scatter(x, y)\n",
    "plt.plot(x, poly2_bis_reg.predict(X2_bis), color='r')\n",
    "plt.show()\n",
    "\n",
    "# Montrer les coefficient qu'on a trouvé (Attention à l'ordre de coefficient)\n",
    "print (poly2_bis_reg.coef_, poly2_bis_reg.intercept_)\n",
    "\n",
    "\n",
    "\n",
    "\n",
    "\n",
    "\n",
    "\n",
    "\n",
    "\n",
    "\n",
    "\n"
   ]
  },
  {
   "cell_type": "markdown",
   "metadata": {},
   "source": [
    "### 2.1 `PolynomialFeatures` pour les features de dimension 2<a class=\"anchor\" id=\"section2_1\"></a>"
   ]
  },
  {
   "cell_type": "markdown",
   "metadata": {},
   "source": [
    "Dans cette partie, on va s'intéresser au résultat de `PolynomialFeatures` pour un input $X=(x_1,x_2)$ de dimension 2.\n",
    "\n",
    "\n",
    "**Exercice 14** : En utilisant le code suivant et ses résultats, donner, pour un input $X=(x_1,x_2)$, la valeur de l'output de `PolynomialFeatures(2)` et `PolynomialFeatures(2, interaction_only=True)`."
   ]
  },
  {
   "cell_type": "code",
   "execution_count": 19,
   "metadata": {},
   "outputs": [
    {
     "name": "stdout",
     "output_type": "stream",
     "text": [
      "[[0 1]\n",
      " [2 3]\n",
      " [4 5]]\n"
     ]
    }
   ],
   "source": [
    "XX = np.arange(6).reshape(3, 2)\n",
    "print (XX)"
   ]
  },
  {
   "cell_type": "code",
   "execution_count": 20,
   "metadata": {},
   "outputs": [
    {
     "data": {
      "text/plain": [
       "array([[ 1.,  0.,  1.,  0.,  0.,  1.],\n",
       "       [ 1.,  2.,  3.,  4.,  6.,  9.],\n",
       "       [ 1.,  4.,  5., 16., 20., 25.]])"
      ]
     },
     "execution_count": 20,
     "metadata": {},
     "output_type": "execute_result"
    }
   ],
   "source": [
    "poly2 = PolynomialFeatures(2)\n",
    "poly2.fit_transform(XX)"
   ]
  },
  {
   "cell_type": "code",
   "execution_count": 21,
   "metadata": {},
   "outputs": [
    {
     "data": {
      "text/plain": [
       "array([[ 1.,  0.,  1.,  0.],\n",
       "       [ 1.,  2.,  3.,  6.],\n",
       "       [ 1.,  4.,  5., 20.]])"
      ]
     },
     "execution_count": 21,
     "metadata": {},
     "output_type": "execute_result"
    }
   ],
   "source": [
    "poly2_bis = PolynomialFeatures(2, interaction_only=True)\n",
    "poly2_bis.fit_transform(XX)"
   ]
  },
  {
   "cell_type": "markdown",
   "metadata": {},
   "source": [
    " Réponse pour l'exercice 14\n",
    " \n",
    " \n",
    " \n",
    " \n",
    " \n",
    " \n",
    " \n",
    " "
   ]
  },
  {
   "cell_type": "code",
   "execution_count": null,
   "metadata": {},
   "outputs": [],
   "source": []
  },
  {
   "cell_type": "code",
   "execution_count": null,
   "metadata": {},
   "outputs": [],
   "source": []
  }
 ],
 "metadata": {
  "kernelspec": {
   "display_name": "Python 3 (ipykernel)",
   "language": "python",
   "name": "python3"
  },
  "language_info": {
   "codemirror_mode": {
    "name": "ipython",
    "version": 3
   },
   "file_extension": ".py",
   "mimetype": "text/x-python",
   "name": "python",
   "nbconvert_exporter": "python",
   "pygments_lexer": "ipython3",
   "version": "3.9.7"
  }
 },
 "nbformat": 4,
 "nbformat_minor": 4
}
