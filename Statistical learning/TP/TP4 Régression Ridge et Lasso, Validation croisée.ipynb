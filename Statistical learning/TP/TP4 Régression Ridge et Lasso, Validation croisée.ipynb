{
 "cells": [
  {
   "cell_type": "markdown",
   "metadata": {},
   "source": [
    "# TP4 Ridge et Lasso, Validation croisée\n",
    "\n",
    "\n",
    "### Table of Contents\n",
    "\n",
    "* [0. Préparation des données](#chapter0)\n",
    "* [1. Régression Ridge et Lasso](#chapter1)\n",
    "* [2. Validation croisée pour le hyperparamètre $\\alpha$ de Ridge et de Lasso](#chapter2)\n",
    "\n",
    "\n"
   ]
  },
  {
   "cell_type": "markdown",
   "metadata": {},
   "source": [
    "## 0. Préparation des données <a class=\"anchor\" id=\"chapter0\"></a>\n",
    "\n",
    "Pour les deux premières sections, on va prédire le salaire d’un joueur de baseball en fonction de certaines statistiques associées à ses performances sur l’année. On va utiliser l'ensemble de données `Hitters`.\n",
    "\n",
    "Référence : La base de données `Hitters` vient du livre \"James, Gareth, Daniela Witten, Trevor Hastie, and Robert Tibshirani. An introduction to statistical learning. Vol. 112. New York: springer, 2013\"."
   ]
  },
  {
   "cell_type": "code",
   "execution_count": 3,
   "metadata": {},
   "outputs": [
    {
     "name": "stdout",
     "output_type": "stream",
     "text": [
      "                   AtBat  Hits  HmRun  Runs  RBI  Walks  Years  CAtBat  CHits  \\\n",
      "Name                                                                            \n",
      "-Andy Allanson       293    66      1    30   29     14      1     293     66   \n",
      "-Alan Ashby          315    81      7    24   38     39     14    3449    835   \n",
      "-Alvin Davis         479   130     18    66   72     76      3    1624    457   \n",
      "-Andre Dawson        496   141     20    65   78     37     11    5628   1575   \n",
      "-Andres Galarraga    321    87     10    39   42     30      2     396    101   \n",
      "\n",
      "                   CHmRun  CRuns  CRBI  CWalks League Division  PutOuts  \\\n",
      "Name                                                                      \n",
      "-Andy Allanson          1     30    29      14      A        E      446   \n",
      "-Alan Ashby            69    321   414     375      N        W      632   \n",
      "-Alvin Davis           63    224   266     263      A        W      880   \n",
      "-Andre Dawson         225    828   838     354      N        E      200   \n",
      "-Andres Galarraga      12     48    46      33      N        E      805   \n",
      "\n",
      "                   Assists  Errors  Salary NewLeague  \n",
      "Name                                                  \n",
      "-Andy Allanson          33      20     NaN         A  \n",
      "-Alan Ashby             43      10   475.0         N  \n",
      "-Alvin Davis            82      14   480.0         A  \n",
      "-Andre Dawson           11       3   500.0         N  \n",
      "-Andres Galarraga       40       4    91.5         N  \n"
     ]
    }
   ],
   "source": [
    "import numpy as np\n",
    "import pandas as pd  #pandas pour la gestion des données \n",
    "import matplotlib.pyplot as plt\n",
    "\n",
    "\n",
    "hitters = pd.read_csv(\"Hitters.csv\", index_col = \"Name\")  \n",
    "\n",
    "print(hitters.head())"
   ]
  },
  {
   "cell_type": "markdown",
   "metadata": {},
   "source": [
    "**Exercice 1** : \n",
    "\n",
    "Dans `pd.read_csv(\"Hitters.csv\", index_col = \"Name\") `, qu'est-ce que `index_col = \"Name\"` signifie ? Essayer le prochain code sans `index_col = \"Name\"`.\n",
    "\n"
   ]
  },
  {
   "cell_type": "code",
   "execution_count": 4,
   "metadata": {},
   "outputs": [
    {
     "name": "stdout",
     "output_type": "stream",
     "text": [
      "                  Name  AtBat  Hits  HmRun  Runs  RBI  Walks  Years  CAtBat  \\\n",
      "0       -Andy Allanson    293    66      1    30   29     14      1     293   \n",
      "1          -Alan Ashby    315    81      7    24   38     39     14    3449   \n",
      "2         -Alvin Davis    479   130     18    66   72     76      3    1624   \n",
      "3        -Andre Dawson    496   141     20    65   78     37     11    5628   \n",
      "4    -Andres Galarraga    321    87     10    39   42     30      2     396   \n",
      "..                 ...    ...   ...    ...   ...  ...    ...    ...     ...   \n",
      "317      -Willie McGee    497   127      7    65   48     37      5    2703   \n",
      "318   -Willie Randolph    492   136      5    76   50     94     12    5511   \n",
      "319    -Wayne Tolleson    475   126      3    61   43     52      6    1700   \n",
      "320     -Willie Upshaw    573   144      9    85   60     78      8    3198   \n",
      "321     -Willie Wilson    631   170      9    77   44     31     11    4908   \n",
      "\n",
      "     CHits  ...  CRuns  CRBI  CWalks  League Division PutOuts  Assists  \\\n",
      "0       66  ...     30    29      14       A        E     446       33   \n",
      "1      835  ...    321   414     375       N        W     632       43   \n",
      "2      457  ...    224   266     263       A        W     880       82   \n",
      "3     1575  ...    828   838     354       N        E     200       11   \n",
      "4      101  ...     48    46      33       N        E     805       40   \n",
      "..     ...  ...    ...   ...     ...     ...      ...     ...      ...   \n",
      "317    806  ...    379   311     138       N        E     325        9   \n",
      "318   1511  ...    897   451     875       A        E     313      381   \n",
      "319    433  ...    217    93     146       A        W      37      113   \n",
      "320    857  ...    470   420     332       A        E    1314      131   \n",
      "321   1457  ...    775   357     249       A        W     408        4   \n",
      "\n",
      "     Errors  Salary  NewLeague  \n",
      "0        20     NaN          A  \n",
      "1        10   475.0          N  \n",
      "2        14   480.0          A  \n",
      "3         3   500.0          N  \n",
      "4         4    91.5          N  \n",
      "..      ...     ...        ...  \n",
      "317       3   700.0          N  \n",
      "318      20   875.0          A  \n",
      "319       7   385.0          A  \n",
      "320      12   960.0          A  \n",
      "321       3  1000.0          A  \n",
      "\n",
      "[322 rows x 21 columns]\n"
     ]
    }
   ],
   "source": [
    "hitters_bis = pd.read_csv(\"Hitters.csv\")  \n",
    "\n",
    "print(hitters_bis)"
   ]
  },
  {
   "cell_type": "markdown",
   "metadata": {},
   "source": [
    "Réponse pour l'exercice 1\n",
    "\n",
    "index_col=\"Name\" va servir à indexer le jeu de données en fonction des noms des joueurs\n",
    "\n"
   ]
  },
  {
   "cell_type": "markdown",
   "metadata": {},
   "source": [
    "**Exercice 2** :\n",
    "\n",
    "(1)  Quelle est la taille des `Hitters` ? \n",
    "\n",
    "(2)  Quelles sont les features de `Hitters` ? \n",
    "\n",
    "(3)  Est-ce que toutes les features sont dans $\\mathbb{R}$? \n",
    "\n",
    "(4)  Y’a t-il beaucoup de données manquantes ? `print` le nombre des données manquantes pour chaque feature. \n",
    "\n",
    "- Indication : \n",
    "    - (2) et (3) Utiliser `pandas.DataFrame.dtypes`.   https://pandas.pydata.org/docs/reference/api/pandas.DataFrame.dtypes.html\n",
    "    - (4) Utiliser `pandas.DataFrame.isnull`.\n",
    "    https://pandas.pydata.org/docs/reference/api/pandas.DataFrame.isnull.html\n",
    "    Un exemple est en bas."
   ]
  },
  {
   "cell_type": "code",
   "execution_count": 5,
   "metadata": {},
   "outputs": [
    {
     "name": "stdout",
     "output_type": "stream",
     "text": [
      "(322, 20)\n",
      "Les données : \n",
      "        nom   age  exam\n",
      "0    Alice  19.0  15.0\n",
      "1  Nicolas   NaN  14.0\n",
      "2     Jean   NaN   NaN\n",
      "Premier résultat : \n",
      "      nom    age   exam\n",
      "0  False  False  False\n",
      "1  False   True  False\n",
      "2  False   True   True\n",
      "Deuxieme résultat : \n",
      " nom     0\n",
      "age     2\n",
      "exam    1\n",
      "dtype: int64\n"
     ]
    }
   ],
   "source": [
    "# Indication pour la question (4) : Constater les résultats du programme suivant. \n",
    "\n",
    "print(hitters.shape)\n",
    "\n",
    "ex = pd.DataFrame(dict(nom=['Alice', 'Nicolas', 'Jean'],\n",
    "                       age=[19, np.NaN, np.NaN],\n",
    "                       exam=[15,14,np.NaN]))\n",
    "\n",
    "print (\"Les données : \\n\", ex)\n",
    "print (\"Premier résultat : \\n\", ex.isnull())\n",
    "print (\"Deuxieme résultat : \\n\", ex.isnull().sum())"
   ]
  },
  {
   "cell_type": "code",
   "execution_count": 6,
   "metadata": {},
   "outputs": [
    {
     "name": "stdout",
     "output_type": "stream",
     "text": [
      "1) La taille de Hitters est :  (322, 20)\n",
      "2) Les features de Hitters sont :  Index(['AtBat', 'Hits', 'HmRun', 'Runs', 'RBI', 'Walks', 'Years', 'CAtBat',\n",
      "       'CHits', 'CHmRun', 'CRuns', 'CRBI', 'CWalks', 'League', 'Division',\n",
      "       'PutOuts', 'Assists', 'Errors', 'Salary', 'NewLeague'],\n",
      "      dtype='object')\n",
      "3) Voici les types de chaque feature : \n",
      "<class 'pandas.core.frame.DataFrame'>\n",
      "Index: 322 entries, -Andy Allanson to -Willie Wilson\n",
      "Data columns (total 20 columns):\n",
      " #   Column     Non-Null Count  Dtype  \n",
      "---  ------     --------------  -----  \n",
      " 0   AtBat      322 non-null    int64  \n",
      " 1   Hits       322 non-null    int64  \n",
      " 2   HmRun      322 non-null    int64  \n",
      " 3   Runs       322 non-null    int64  \n",
      " 4   RBI        322 non-null    int64  \n",
      " 5   Walks      322 non-null    int64  \n",
      " 6   Years      322 non-null    int64  \n",
      " 7   CAtBat     322 non-null    int64  \n",
      " 8   CHits      322 non-null    int64  \n",
      " 9   CHmRun     322 non-null    int64  \n",
      " 10  CRuns      322 non-null    int64  \n",
      " 11  CRBI       322 non-null    int64  \n",
      " 12  CWalks     322 non-null    int64  \n",
      " 13  League     322 non-null    object \n",
      " 14  Division   322 non-null    object \n",
      " 15  PutOuts    322 non-null    int64  \n",
      " 16  Assists    322 non-null    int64  \n",
      " 17  Errors     322 non-null    int64  \n",
      " 18  Salary     263 non-null    float64\n",
      " 19  NewLeague  322 non-null    object \n",
      "dtypes: float64(1), int64(16), object(3)\n",
      "memory usage: 52.8+ KB\n",
      "--> Les features League, Division et NewLeague ne sont pas dans R.\n",
      "4) Voici les features avec le nombre de données manquantes :  Salary    59\n",
      "dtype: int64\n"
     ]
    }
   ],
   "source": [
    "# Réponse pour l'exercice 2\n",
    "\n",
    "print(\"1) La taille de Hitters est : \", hitters.shape)\n",
    "\n",
    "print(\"2) Les features de Hitters sont : \", hitters.columns)\n",
    "\n",
    "print(\"3) Voici les types de chaque feature : \")\n",
    "\n",
    "hitters.info()\n",
    "\n",
    "print(\"--> Les features League, Division et NewLeague ne sont pas dans R.\")\n",
    "\n",
    "print(\"4) Voici les features avec le nombre de données manquantes : \", hitters.isnull().sum()[hitters.isnull().sum()!=0])"
   ]
  },
  {
   "cell_type": "markdown",
   "metadata": {},
   "source": [
    "Comme on va prédire le salaire d’un joueur de baseball, s'il manque la valeur de son salaire, on ne peut que supprimer les données de ce joueur avant de faire le modèle de prédiction. \n",
    "\n",
    "Dans ce TP, pour simplifier, **on ne prend que les features qui sont déjà dans $\\mathbb{R}$** et on ignore les features catégoriques comme `League`, `Division` et `NewLeague`.\n",
    "\n",
    "Remarque, pour les features catégoriques, on peut utiliser le one-hot encoding, voir `pandas.get_dummies` https://pandas.pydata.org/docs/reference/api/pandas.get_dummies.html?highlight=get_dummies#pandas.get_dummies."
   ]
  },
  {
   "cell_type": "markdown",
   "metadata": {},
   "source": [
    "**Exercice 3** :\n",
    "\n",
    "(1) D'abord, on supprime les données ayant `Salary` manquant. \n",
    "Indication : utiliser `pandas.DataFrame.dropna`. https://pandas.pydata.org/docs/reference/api/pandas.DataFrame.dropna.html\n",
    "\n",
    "(2) On choisit les features dans $\\mathbb{R}$ comme X (dans ce TP, ce sont des colonnes ayant type `int64`) et on note la colonne `Salary` comme Y.\n",
    "Indication : utiliser `pandas.DataFrame.loc`.\n",
    "https://pandas.pydata.org/docs/reference/api/pandas.DataFrame.loc.html"
   ]
  },
  {
   "cell_type": "code",
   "execution_count": 7,
   "metadata": {},
   "outputs": [
    {
     "name": "stdout",
     "output_type": "stream",
     "text": [
      "0\n",
      "(263, 16)\n"
     ]
    }
   ],
   "source": [
    "# Réponse pour l'exercice 3\n",
    "hitters = hitters.dropna()\n",
    "\n",
    "# Remplir votre code ici\n",
    "X = hitters.select_dtypes(include=[\"int64\"])\n",
    "Y = hitters[\"Salary\"]\n",
    "\n",
    "\n",
    "\n",
    "\n",
    "# check-point \n",
    "print (Y.isnull().sum())  # qui devrait être 0\n",
    "print (X.shape) # qui devrait être (322-59, 20-4)=(263,16)\n"
   ]
  },
  {
   "cell_type": "markdown",
   "metadata": {},
   "source": [
    "## 1. Régression Ridge et Lasso <a class=\"anchor\" id=\"chapter1\"></a>"
   ]
  },
  {
   "cell_type": "markdown",
   "metadata": {},
   "source": [
    "**Exercice 4** : (1) Créer un modèle de régression Ridge avec `alpha=1`, nommé `ridge`. Que signifie le paramètre `alpha`?\n",
    "\n",
    "Indication : Utiliser `sklearn.linear_model.Ridge`.\n",
    "\n",
    "https://scikit-learn.org/stable/modules/generated/sklearn.linear_model.Ridge.html\n",
    "\n",
    "(2) Entraîner `ridge` sur les données `(X,Y)`.\n",
    "\n",
    "(3) Quels sont les coefficents ( y compris `intercept`) obtenus ?"
   ]
  },
  {
   "cell_type": "code",
   "execution_count": 8,
   "metadata": {},
   "outputs": [
    {
     "name": "stdout",
     "output_type": "stream",
     "text": [
      "Les coefficients obtenus sont :  [-2.20287932  7.82697068  2.16196029 -2.09868663 -0.02245984  6.15062897\n",
      " -2.5880828  -0.1763119   0.06991913 -0.23282742  1.60993326  0.80133141\n",
      " -0.79388497  0.29457527  0.38398464 -2.87825534]\n",
      "L'intercept vaut :  126.08586774788643\n"
     ]
    }
   ],
   "source": [
    "# Réponse pour l'exercice 4\n",
    "from sklearn.linear_model import Ridge\n",
    "\n",
    "ridge = Ridge(alpha=1)\n",
    "ridge.fit(X, Y)\n",
    "\n",
    "print(\"Les coefficients obtenus sont : \", ridge.coef_)\n",
    "\n",
    "print(\"L'intercept vaut : \", ridge.intercept_)\n",
    "\n",
    "\n",
    "\n"
   ]
  },
  {
   "cell_type": "markdown",
   "metadata": {},
   "source": [
    "**Exercice 5** : (1) Créer un modèle de régression Lasso avec `alpha=1`, nommé `lasso`. Que signifie le paramètre `alpha`?\n",
    "\n",
    "Indication : Utiliser `sklearn.linear_model.Lasso` https://scikit-learn.org/stable/modules/generated/sklearn.linear_model.Lasso.html\n",
    "\n",
    "(2) Entraîner `lasso` sur les données `(X,Y)`.\n",
    "\n",
    "Remarque : On ignore le `warning` pour cette question. (Dans ce cas, on pourra écrire nous-même e.g. la descente de gradient stochastique pour vérifier la convergence. On ignore ici car ce n'est pas l'objectif de ce TP.)\n",
    "\n",
    "(3) Quels sont les coefficents ( y compris `intercept`) obtenus ?"
   ]
  },
  {
   "cell_type": "code",
   "execution_count": 82,
   "metadata": {},
   "outputs": [
    {
     "name": "stdout",
     "output_type": "stream",
     "text": [
      "Les coefficients obtenus sont :  [-2.16482646  7.63712464  1.89407188 -1.91767075  0.03830205  6.06939193\n",
      " -1.60304168 -0.19483094  0.16016231 -0.09294004  1.55251191  0.74921021\n",
      " -0.77052554  0.29422566  0.38804059 -2.87582655]\n",
      "L'intercept vaut :  123.24921194604997\n"
     ]
    }
   ],
   "source": [
    "# Réponse pour l'exercice 5\n",
    "from sklearn import linear_model\n",
    "\n",
    "import warnings\n",
    "warnings.filterwarnings(\"ignore\")\n",
    "\n",
    "#Le paramètre alpha est l'hyperparamètre du modèle\n",
    "lasso = linear_model.Lasso(alpha=1)\n",
    "\n",
    "lasso.fit(X,Y)\n",
    "\n",
    "print(\"Les coefficients obtenus sont : \", lasso.coef_)\n",
    "\n",
    "print(\"L'intercept vaut : \", lasso.intercept_)\n",
    "\n"
   ]
  },
  {
   "cell_type": "markdown",
   "metadata": {},
   "source": [
    "\n",
    "-------------------\n",
    "\n",
    "Maintenant on va montrer le changement des coefficients en fonction de `alpha` (*shrinkage* en anglais). \n",
    "\n",
    "On va générer les valeurs d'`alpha` comme suit,"
   ]
  },
  {
   "cell_type": "code",
   "execution_count": 10,
   "metadata": {
    "scrolled": false
   },
   "outputs": [
    {
     "name": "stdout",
     "output_type": "stream",
     "text": [
      "[1.00000000e-02 1.59985872e-02 2.55954792e-02 4.09491506e-02\n",
      " 6.55128557e-02 1.04811313e-01 1.67683294e-01 2.68269580e-01\n",
      " 4.29193426e-01 6.86648845e-01 1.09854114e+00 1.75751062e+00\n",
      " 2.81176870e+00 4.49843267e+00 7.19685673e+00 1.15139540e+01\n",
      " 1.84206997e+01 2.94705170e+01 4.71486636e+01 7.54312006e+01\n",
      " 1.20679264e+02 1.93069773e+02 3.08884360e+02 4.94171336e+02\n",
      " 7.90604321e+02 1.26485522e+03 2.02358965e+03 3.23745754e+03\n",
      " 5.17947468e+03 8.28642773e+03 1.32571137e+04 2.12095089e+04\n",
      " 3.39322177e+04 5.42867544e+04 8.68511374e+04 1.38949549e+05\n",
      " 2.22299648e+05 3.55648031e+05 5.68986603e+05 9.10298178e+05\n",
      " 1.45634848e+06 2.32995181e+06 3.72759372e+06 5.96362332e+06\n",
      " 9.54095476e+06 1.52641797e+07 2.44205309e+07 3.90693994e+07\n",
      " 6.25055193e+07 1.00000000e+08]\n"
     ]
    },
    {
     "data": {
      "text/plain": [
       "[<matplotlib.lines.Line2D at 0x7fe05612ab20>]"
      ]
     },
     "execution_count": 10,
     "metadata": {},
     "output_type": "execute_result"
    },
    {
     "data": {
      "image/png": "[encoded data removed]",
      "text/plain": [
       "<Figure size 432x288 with 2 Axes>"
      ]
     },
     "metadata": {
      "needs_background": "light"
     },
     "output_type": "display_data"
    }
   ],
   "source": [
    "alpha_s = np.logspace(-2,8,50)\n",
    "\n",
    "print (alpha_s)\n",
    "\n",
    "fig, (ax1, ax2) = plt.subplots(1, 2)\n",
    "ax1.plot(alpha_s, \".\")\n",
    "ax2.plot(np.log10(alpha_s), \".\")\n"
   ]
  },
  {
   "cell_type": "markdown",
   "metadata": {},
   "source": [
    "**Exercice 6** : (1) Pour chaque `alpha` dans `alpha_s`, on entraîne un modèle de régression de Ridge en utiliser `ridge.set_params`. Voir également cette page https://scikit-learn.org/stable/modules/generated/sklearn.linear_model.Ridge.html. On enregistre les coefficients dans une liste. \n",
    "\n",
    "(2) Tracer (`plot`) le changement des coefficients en fonction de `log10(alpha)`. Que constatez-vous ?\n",
    "\n",
    "(3) (Optionnel) Créer un modèle de régression linéaire, comparer les coefficients obtenus par  un modèle de régression linéaire et les coefficients obtenus par un modèle de régression de Ridge quand `alpha` est petit. \n"
   ]
  },
  {
   "cell_type": "code",
   "execution_count": 37,
   "metadata": {},
   "outputs": [
    {
     "name": "stdout",
     "output_type": "stream",
     "text": [
      "On remarque que les coefficients ont tendance à converger vers 0\n"
     ]
    },
    {
     "data": {
      "image/png": "[encoded data removed]",
      "text/plain": [
       "<Figure size 432x288 with 1 Axes>"
      ]
     },
     "metadata": {
      "needs_background": "light"
     },
     "output_type": "display_data"
    }
   ],
   "source": [
    "# Réponse pour l'exercice 6\n",
    "\n",
    "ridge_parametres = []\n",
    "\n",
    "for a in alpha_s:\n",
    "    ridge.set_params(alpha=a)\n",
    "    ridge.fit(X,Y)\n",
    "    ridge_parametres.append(ridge.coef_)\n",
    "\n",
    "plt.plot(np.log10(alpha_s), ridge_parametres)\n",
    "\n",
    "\n",
    "print(\"On remarque que les coefficients ont tendance à converger vers 0\")\n",
    "\n",
    "\n"
   ]
  },
  {
   "cell_type": "markdown",
   "metadata": {},
   "source": [
    "**Exercice 7** : Les mêmes questions que l'**Exercice 6** mais pour la régression Lasso. \n",
    "\n",
    "Indication : pour tracer le changement des coefficients en fonction de alpha, on pourra utiliser `sklearn.linear_model.lasso_path`. \n",
    "Voir https://scikit-learn.org/stable/modules/generated/sklearn.linear_model.lasso_path.html\n",
    "\n",
    "Attention : La sortie de `lasso_path` est un `tuple` (Voir par exemple https://courspython.com/tuple.html). \n",
    "Bien lire l'exemple dans la page de sklearn.\n",
    "\n",
    "Remarque : On ignore le `warning` de cet exercice comme pour l'**Exercice 5**."
   ]
  },
  {
   "cell_type": "code",
   "execution_count": 71,
   "metadata": {},
   "outputs": [
    {
     "name": "stderr",
     "output_type": "stream",
     "text": [
      "/Users/mathias/opt/anaconda3/lib/python3.9/site-packages/sklearn/linear_model/_coordinate_descent.py:526: ConvergenceWarning: Objective did not converge. You might want to increase the number of iterations. Duality gap: 25704.581830233335, tolerance: 12885.7065737425\n",
      "  model = cd_fast.enet_coordinate_descent_gram(\n",
      "/Users/mathias/opt/anaconda3/lib/python3.9/site-packages/sklearn/linear_model/_coordinate_descent.py:526: ConvergenceWarning: Objective did not converge. You might want to increase the number of iterations. Duality gap: 22724.961838424206, tolerance: 12885.7065737425\n",
      "  model = cd_fast.enet_coordinate_descent_gram(\n",
      "/Users/mathias/opt/anaconda3/lib/python3.9/site-packages/sklearn/linear_model/_coordinate_descent.py:526: ConvergenceWarning: Objective did not converge. You might want to increase the number of iterations. Duality gap: 133000.52530830353, tolerance: 12885.7065737425\n",
      "  model = cd_fast.enet_coordinate_descent_gram(\n",
      "/Users/mathias/opt/anaconda3/lib/python3.9/site-packages/sklearn/linear_model/_coordinate_descent.py:526: ConvergenceWarning: Objective did not converge. You might want to increase the number of iterations. Duality gap: 45469.01082038134, tolerance: 12885.7065737425\n",
      "  model = cd_fast.enet_coordinate_descent_gram(\n",
      "/Users/mathias/opt/anaconda3/lib/python3.9/site-packages/sklearn/linear_model/_coordinate_descent.py:526: ConvergenceWarning: Objective did not converge. You might want to increase the number of iterations. Duality gap: 62229.7470209375, tolerance: 12885.7065737425\n",
      "  model = cd_fast.enet_coordinate_descent_gram(\n",
      "/Users/mathias/opt/anaconda3/lib/python3.9/site-packages/sklearn/linear_model/_coordinate_descent.py:526: ConvergenceWarning: Objective did not converge. You might want to increase the number of iterations. Duality gap: 54623.572339974344, tolerance: 12885.7065737425\n",
      "  model = cd_fast.enet_coordinate_descent_gram(\n",
      "/Users/mathias/opt/anaconda3/lib/python3.9/site-packages/sklearn/linear_model/_coordinate_descent.py:526: ConvergenceWarning: Objective did not converge. You might want to increase the number of iterations. Duality gap: 46393.645123288035, tolerance: 12885.7065737425\n",
      "  model = cd_fast.enet_coordinate_descent_gram(\n",
      "/Users/mathias/opt/anaconda3/lib/python3.9/site-packages/sklearn/linear_model/_coordinate_descent.py:526: ConvergenceWarning: Objective did not converge. You might want to increase the number of iterations. Duality gap: 129857.70284474641, tolerance: 12885.7065737425\n",
      "  model = cd_fast.enet_coordinate_descent_gram(\n",
      "/Users/mathias/opt/anaconda3/lib/python3.9/site-packages/sklearn/linear_model/_coordinate_descent.py:526: ConvergenceWarning: Objective did not converge. You might want to increase the number of iterations. Duality gap: 5645208.1174463965, tolerance: 12885.7065737425\n",
      "  model = cd_fast.enet_coordinate_descent_gram(\n",
      "/Users/mathias/opt/anaconda3/lib/python3.9/site-packages/sklearn/linear_model/_coordinate_descent.py:526: ConvergenceWarning: Objective did not converge. You might want to increase the number of iterations. Duality gap: 4867489.867220191, tolerance: 12885.7065737425\n",
      "  model = cd_fast.enet_coordinate_descent_gram(\n",
      "/Users/mathias/opt/anaconda3/lib/python3.9/site-packages/sklearn/linear_model/_coordinate_descent.py:526: ConvergenceWarning: Objective did not converge. You might want to increase the number of iterations. Duality gap: 67955.88213962317, tolerance: 12885.7065737425\n",
      "  model = cd_fast.enet_coordinate_descent_gram(\n",
      "/Users/mathias/opt/anaconda3/lib/python3.9/site-packages/sklearn/linear_model/_coordinate_descent.py:526: ConvergenceWarning: Objective did not converge. You might want to increase the number of iterations. Duality gap: 4877171.023216594, tolerance: 12885.7065737425\n",
      "  model = cd_fast.enet_coordinate_descent_gram(\n",
      "/Users/mathias/opt/anaconda3/lib/python3.9/site-packages/sklearn/linear_model/_coordinate_descent.py:526: ConvergenceWarning: Objective did not converge. You might want to increase the number of iterations. Duality gap: 8377228.242118975, tolerance: 12885.7065737425\n",
      "  model = cd_fast.enet_coordinate_descent_gram(\n",
      "/Users/mathias/opt/anaconda3/lib/python3.9/site-packages/sklearn/linear_model/_coordinate_descent.py:526: ConvergenceWarning: Objective did not converge. You might want to increase the number of iterations. Duality gap: 9157595.428021023, tolerance: 12885.7065737425\n",
      "  model = cd_fast.enet_coordinate_descent_gram(\n",
      "/Users/mathias/opt/anaconda3/lib/python3.9/site-packages/sklearn/linear_model/_coordinate_descent.py:526: ConvergenceWarning: Objective did not converge. You might want to increase the number of iterations. Duality gap: 9998002.091896104, tolerance: 12885.7065737425\n",
      "  model = cd_fast.enet_coordinate_descent_gram(\n",
      "/Users/mathias/opt/anaconda3/lib/python3.9/site-packages/sklearn/linear_model/_coordinate_descent.py:526: ConvergenceWarning: Objective did not converge. You might want to increase the number of iterations. Duality gap: 10268760.82651451, tolerance: 12885.7065737425\n",
      "  model = cd_fast.enet_coordinate_descent_gram(\n",
      "/Users/mathias/opt/anaconda3/lib/python3.9/site-packages/sklearn/linear_model/_coordinate_descent.py:526: ConvergenceWarning: Objective did not converge. You might want to increase the number of iterations. Duality gap: 10383025.353182105, tolerance: 12885.7065737425\n",
      "  model = cd_fast.enet_coordinate_descent_gram(\n",
      "/Users/mathias/opt/anaconda3/lib/python3.9/site-packages/sklearn/linear_model/_coordinate_descent.py:526: ConvergenceWarning: Objective did not converge. You might want to increase the number of iterations. Duality gap: 10435663.320826765, tolerance: 12885.7065737425\n",
      "  model = cd_fast.enet_coordinate_descent_gram(\n",
      "/Users/mathias/opt/anaconda3/lib/python3.9/site-packages/sklearn/linear_model/_coordinate_descent.py:526: ConvergenceWarning: Objective did not converge. You might want to increase the number of iterations. Duality gap: 10460793.696850037, tolerance: 12885.7065737425\n",
      "  model = cd_fast.enet_coordinate_descent_gram(\n",
      "/Users/mathias/opt/anaconda3/lib/python3.9/site-packages/sklearn/linear_model/_coordinate_descent.py:526: ConvergenceWarning: Objective did not converge. You might want to increase the number of iterations. Duality gap: 10472979.325281674, tolerance: 12885.7065737425\n",
      "  model = cd_fast.enet_coordinate_descent_gram(\n",
      "/Users/mathias/opt/anaconda3/lib/python3.9/site-packages/sklearn/linear_model/_coordinate_descent.py:526: ConvergenceWarning: Objective did not converge. You might want to increase the number of iterations. Duality gap: 10478920.50732039, tolerance: 12885.7065737425\n",
      "  model = cd_fast.enet_coordinate_descent_gram(\n",
      "/Users/mathias/opt/anaconda3/lib/python3.9/site-packages/sklearn/linear_model/_coordinate_descent.py:526: ConvergenceWarning: Objective did not converge. You might want to increase the number of iterations. Duality gap: 10481816.195661463, tolerance: 12885.7065737425\n",
      "  model = cd_fast.enet_coordinate_descent_gram(\n",
      "/Users/mathias/opt/anaconda3/lib/python3.9/site-packages/sklearn/linear_model/_coordinate_descent.py:526: ConvergenceWarning: Objective did not converge. You might want to increase the number of iterations. Duality gap: 10483222.250789786, tolerance: 12885.7065737425\n",
      "  model = cd_fast.enet_coordinate_descent_gram(\n",
      "/Users/mathias/opt/anaconda3/lib/python3.9/site-packages/sklearn/linear_model/_coordinate_descent.py:526: ConvergenceWarning: Objective did not converge. You might want to increase the number of iterations. Duality gap: 10483900.304312898, tolerance: 12885.7065737425\n",
      "  model = cd_fast.enet_coordinate_descent_gram(\n",
      "/Users/mathias/opt/anaconda3/lib/python3.9/site-packages/sklearn/linear_model/_coordinate_descent.py:526: ConvergenceWarning: Objective did not converge. You might want to increase the number of iterations. Duality gap: 10484224.094219487, tolerance: 12885.7065737425\n",
      "  model = cd_fast.enet_coordinate_descent_gram(\n",
      "/Users/mathias/opt/anaconda3/lib/python3.9/site-packages/sklearn/linear_model/_coordinate_descent.py:526: ConvergenceWarning: Objective did not converge. You might want to increase the number of iterations. Duality gap: 10484376.143706352, tolerance: 12885.7065737425\n",
      "  model = cd_fast.enet_coordinate_descent_gram(\n"
     ]
    },
    {
     "data": {
      "text/plain": [
       "[<matplotlib.lines.Line2D at 0x7fe05631e280>,\n",
       " <matplotlib.lines.Line2D at 0x7fe05631e670>,\n",
       " <matplotlib.lines.Line2D at 0x7fe05631e370>,\n",
       " <matplotlib.lines.Line2D at 0x7fe05631e6d0>,\n",
       " <matplotlib.lines.Line2D at 0x7fe05631e520>,\n",
       " <matplotlib.lines.Line2D at 0x7fe05631edc0>,\n",
       " <matplotlib.lines.Line2D at 0x7fe05631e070>,\n",
       " <matplotlib.lines.Line2D at 0x7fe05631eb80>,\n",
       " <matplotlib.lines.Line2D at 0x7fe05631e610>,\n",
       " <matplotlib.lines.Line2D at 0x7fe056429e20>,\n",
       " <matplotlib.lines.Line2D at 0x7fe056429f40>,\n",
       " <matplotlib.lines.Line2D at 0x7fe0567ccac0>,\n",
       " <matplotlib.lines.Line2D at 0x7fe056328610>,\n",
       " <matplotlib.lines.Line2D at 0x7fe056328730>,\n",
       " <matplotlib.lines.Line2D at 0x7fe0563281f0>,\n",
       " <matplotlib.lines.Line2D at 0x7fe056328220>]"
      ]
     },
     "execution_count": 71,
     "metadata": {},
     "output_type": "execute_result"
    },
    {
     "data": {
      "image/png": "[encoded data removed]",
      "text/plain": [
       "<Figure size 432x288 with 1 Axes>"
      ]
     },
     "metadata": {
      "needs_background": "light"
     },
     "output_type": "display_data"
    }
   ],
   "source": [
    "# Réponse pour l'exercice 7\n",
    "\n",
    "\n",
    "from sklearn.linear_model import lasso_path\n",
    "\n",
    "# remplir ici\n",
    "lasso_parametres = []\n",
    "\n",
    "alpha_path, coef_path, _ = lasso_path(X, Y, alphas=alpha_s)\n",
    "plt.plot(np.log10(alpha_path) ,np.transpose(coef_path))\n"
   ]
  },
  {
   "cell_type": "markdown",
   "metadata": {},
   "source": [
    "-------------------\n",
    "\n",
    "Maintenant on va montrer que la régression Lasso va nous aider à sélectionner les variables i.e. certains coefficients deviennent 0 quand on augmente `alpha`. \n"
   ]
  },
  {
   "cell_type": "markdown",
   "metadata": {},
   "source": [
    "**Exercice 8** : Calculer le nombre de 0 dans les coefficients de la **régression Lasso** pour chaque `alpha`, nommé  `nb_zero_coefs_lasso `. (Lire la cellule suivante pour une indication)\n",
    "\n",
    "Tracer une courbe de `nb_zero_coefs_lasso` en fonction de `log10(alphas)`.\n"
   ]
  },
  {
   "cell_type": "code",
   "execution_count": 13,
   "metadata": {},
   "outputs": [
    {
     "name": "stdout",
     "output_type": "stream",
     "text": [
      "1.\n",
      " [[0 1 1]\n",
      " [0 1 1]\n",
      " [0 1 0]]\n",
      "2.\n",
      " [[ True False False]\n",
      " [ True False False]\n",
      " [ True False  True]]\n",
      "3. Le nombre de 0 de chaque colonne est :\n",
      "  [3 0 1]\n",
      "4. Le nombre de 0 de chaque ligne est : \n",
      " [1 1 2]\n"
     ]
    }
   ],
   "source": [
    "# Indication pour l'exercice 8\n",
    "\n",
    "ind=np.array([[0,1,1],[0,1,1],[0,1,0]])\n",
    "\n",
    "print (\"1.\\n\", ind)\n",
    "print (\"2.\\n\", ind==0)\n",
    "print (\"3. Le nombre de 0 de chaque colonne est :\\n \", (ind == 0).sum(axis = 0))\n",
    "print (\"4. Le nombre de 0 de chaque ligne est : \\n\", (ind == 0).sum(axis = 1))\n"
   ]
  },
  {
   "cell_type": "code",
   "execution_count": 18,
   "metadata": {},
   "outputs": [
    {
     "data": {
      "text/plain": [
       "[<matplotlib.lines.Line2D at 0x7fe056aa7430>]"
      ]
     },
     "execution_count": 18,
     "metadata": {},
     "output_type": "execute_result"
    },
    {
     "data": {
      "image/png": "[encoded data removed]",
      "text/plain": [
       "<Figure size 432x288 with 1 Axes>"
      ]
     },
     "metadata": {
      "needs_background": "light"
     },
     "output_type": "display_data"
    }
   ],
   "source": [
    "# Réponse pour l'exercice 8\n",
    "\n",
    "nb_zero_coefs_lasso = ((coef_path==0).sum(axis = 0))\n",
    "plt.plot(np.log10(alpha_path), nb_zero_coefs_lasso)\n",
    "\n",
    "\n",
    "\n",
    "\n"
   ]
  },
  {
   "cell_type": "markdown",
   "metadata": {},
   "source": [
    "**Exercice 9** : (Optionnel) Calculer le nombre de 0 dans les coefficients de **régression Ridge** pour chaque `alpha`, nommé  `nb_zero_coefs_ridge `. (Lire la cellule suivante pour une indication)\n",
    "\n",
    "Tracer une courbe de `nb_zero_coefs_ridge` en fonction de `log10(alphas)`."
   ]
  },
  {
   "cell_type": "code",
   "execution_count": 38,
   "metadata": {},
   "outputs": [
    {
     "data": {
      "text/plain": [
       "[<matplotlib.lines.Line2D at 0x7fe056cc8820>]"
      ]
     },
     "execution_count": 38,
     "metadata": {},
     "output_type": "execute_result"
    },
    {
     "data": {
      "image/png": "[encoded data removed]",
      "text/plain": [
       "<Figure size 432x288 with 1 Axes>"
      ]
     },
     "metadata": {
      "needs_background": "light"
     },
     "output_type": "display_data"
    }
   ],
   "source": [
    "# Réponse pour l'exercice 9\n",
    "\n",
    "nb_zero_coefs_ridge = []\n",
    "for i in range(len(ridge_parametres)):\n",
    "    nb_zero_coefs_ridge.append(((ridge_parametres[i]==0).sum(axis = 0)))\n",
    "\n",
    "plt.plot(np.log10(alpha_s), nb_zero_coefs_ridge)\n",
    "\n"
   ]
  },
  {
   "cell_type": "code",
   "execution_count": null,
   "metadata": {},
   "outputs": [],
   "source": []
  },
  {
   "cell_type": "code",
   "execution_count": null,
   "metadata": {},
   "outputs": [],
   "source": []
  },
  {
   "cell_type": "markdown",
   "metadata": {},
   "source": [
    "----------------\n",
    "\n",
    "\n",
    "## 2. Validation croisée pour l'hyperparamètre $\\alpha$ de Ridge et de Lasso <a class=\"anchor\" id=\"chapter2\"></a>"
   ]
  },
  {
   "cell_type": "markdown",
   "metadata": {},
   "source": [
    "Maintenant on va sélectionner le meilleur `alpha` parmi les valeurs dans `alpha_s` par la validation croisée (ici on ne considère que *Leave-One-Out Cross-Validation*).\n",
    "\n",
    "On va utliser `sklearn.linear_model.RidgeCV` et `sklearn.linear_model.LassoCV`.\n",
    "\n",
    "Référence:\n",
    "\n",
    "1. `sklearn.linear_model.RidgeCV` : https://scikit-learn.org/stable/modules/generated/sklearn.linear_model.RidgeCV.html\n",
    "\n",
    "2. `sklearn.linear_model.LassoCV` : https://scikit-learn.org/stable/modules/generated/sklearn.linear_model.LassoCV.html\n"
   ]
  },
  {
   "cell_type": "code",
   "execution_count": 40,
   "metadata": {},
   "outputs": [],
   "source": [
    "from sklearn.linear_model import RidgeCV, LassoCV\n",
    "\n",
    "# Les alphas qu'on va étudier sont comme dans les exercices précédents \n",
    "\n",
    "alpha_s = np.logspace(-2,8,50)"
   ]
  },
  {
   "cell_type": "markdown",
   "metadata": {},
   "source": [
    "**Exercice 10** : (1) Créer un modèle `RidgeCV`, nommé `ridgeCV`, avec paramètres `alphas=alpha_s`  et `store_cv_values=True`. Entraîner ce modèle `ridgeCV` sur les données `(X,Y)`. \n",
    "\n",
    "(2) On a 50 `alpha`s. Pour chaque `alpha`, combien de scores de la validation croisée obtient-t-on ? Lire l'attribut `cv_values_` de `ridgeCV` et `print` `ridgeCV.cv_values_.shape`."
   ]
  },
  {
   "cell_type": "code",
   "execution_count": 44,
   "metadata": {},
   "outputs": [
    {
     "name": "stdout",
     "output_type": "stream",
     "text": [
      "(263, 50)\n",
      "On obtient ainsi 263 scores pour chaque alpha.\n"
     ]
    }
   ],
   "source": [
    "# Réponse pour l'exercice 10\n",
    "\n",
    "ridgeCV = RidgeCV(alphas=alpha_s, store_cv_values=True)\n",
    "ridgeCV.fit(X,Y)\n",
    "\n",
    "print(ridgeCV.cv_values_.shape)\n",
    "\n",
    "print(\"On obtient ainsi\", ridgeCV.cv_values_.shape[0], \"scores pour chaque alpha.\")\n"
   ]
  },
  {
   "cell_type": "markdown",
   "metadata": {},
   "source": [
    "**Exercice 11** : Pour chaque alpha, calcuer la moyenne de ses scores, nommée `alpha_score`."
   ]
  },
  {
   "cell_type": "code",
   "execution_count": 45,
   "metadata": {},
   "outputs": [
    {
     "name": "stdout",
     "output_type": "stream",
     "text": [
      "1\n",
      " (2, 3)\n",
      "2\n",
      " [2.5 3.5 4.5]\n",
      "3\n",
      " [2. 5.]\n"
     ]
    }
   ],
   "source": [
    "# Indication de l'exercice 11 : \n",
    "\n",
    "ind2=np.array([[1,2,3],[4,5,6]])\n",
    "\n",
    "print (\"1\\n\",ind2.shape)\n",
    "print (\"2\\n\",ind2.mean(axis = 0))\n",
    "print (\"3\\n\",ind2.mean(axis = 1))\n"
   ]
  },
  {
   "cell_type": "code",
   "execution_count": 48,
   "metadata": {},
   "outputs": [
    {
     "name": "stdout",
     "output_type": "stream",
     "text": [
      "(50,)\n"
     ]
    }
   ],
   "source": [
    "# Réponse pour l'exercice 11\n",
    "alpha_score = ridgeCV.cv_values_.mean(axis = 0)\n",
    "print(alpha_score.shape) #Il y a bien 50 moyennes car 50 alpha\n",
    "\n"
   ]
  },
  {
   "cell_type": "markdown",
   "metadata": {},
   "source": [
    "**Exercice 12** : Tracer la courbe de `alpha_score` en fonction de `log10(alpha_s)`. Quel `alpha` va-t-on choisir ? `print` les coefficients pour le meilleur `alpha`.\n",
    "\n",
    "Indication : Lire les attributs `alpha_` et `coef_` de ridgecv."
   ]
  },
  {
   "cell_type": "code",
   "execution_count": 65,
   "metadata": {},
   "outputs": [
    {
     "name": "stdout",
     "output_type": "stream",
     "text": [
      "D'après le graphe, on veut le score (erreur) le plus petit donc on prendra alpha = 13257.113655901108\n",
      "Les coefficients de ridgeCV associé à ce alpha valent : [-1.37990565  4.3651537  -0.14430998  0.6097      0.54930715  3.91462758\n",
      " -0.01896382 -0.27716255  0.58108313  0.1843031   1.14349652  0.64368062\n",
      " -0.49383695  0.29345344  0.3184923  -1.1251208 ]\n"
     ]
    },
    {
     "data": {
      "image/png": "[encoded data removed]",
      "text/plain": [
       "<Figure size 432x288 with 1 Axes>"
      ]
     },
     "metadata": {
      "needs_background": "light"
     },
     "output_type": "display_data"
    }
   ],
   "source": [
    "# Réponse pour l'exercice 12\n",
    "\n",
    "plt.plot(np.log10(alpha_s), alpha_score)\n",
    "\n",
    "print(\"D'après le graphe, on veut le score (erreur) le plus petit donc on prendra alpha =\", ridgeCV.alpha_)\n",
    "\n",
    "print(\"Les coefficients de ridgeCV associé à ce alpha valent :\", ridgeCV.coef_)"
   ]
  },
  {
   "cell_type": "markdown",
   "metadata": {},
   "source": [
    "**Exercice 13** : (Optionnel) Même questions que les **Exercices 10-12** pour `LassoCV`. \n",
    "\n",
    "**Attention**  : (1) Par défaut, `LassoCV` utilise la 5-fold cross-validation, qui diffère de la *Leave-One-Out Cross-Validation* de `RidgeCV`. Si on veut toujours faire *Leave-One-Out Cross-Validation* il faut changer les paramètres à `cv = len(Y)`.\n",
    "\n",
    "**Attention**  : Les attributs de `LassoCV` sont également changés par rapport à `RidgeCV`.\n",
    "\n",
    "Remarque : On ignore le `warning` de cet exercice comme pour l'**Exercice 5**."
   ]
  },
  {
   "cell_type": "code",
   "execution_count": 81,
   "metadata": {},
   "outputs": [
    {
     "name": "stdout",
     "output_type": "stream",
     "text": [
      "(50, 263)\n",
      "D'après le graphe, on veut le score (erreur) le plus petit donc on prendra alpha = 120.67926406393289\n",
      "Les coefficients de ridgeCV associé à ce alpha valent : [-1.63808827  5.63569406  0.          0.          0.          4.58615405\n",
      " -0.         -0.23274963  0.36380683  0.          1.26001116  0.74094169\n",
      " -0.56974569  0.28950025  0.25841542 -0.        ]\n"
     ]
    },
    {
     "data": {
      "image/png": "[encoded data removed]",
      "text/plain": [
       "<Figure size 432x288 with 1 Axes>"
      ]
     },
     "metadata": {
      "needs_background": "light"
     },
     "output_type": "display_data"
    }
   ],
   "source": [
    "# Réponse pour l'exercice 13\n",
    "\n",
    "import warnings\n",
    "warnings.filterwarnings(\"ignore\")\n",
    "\n",
    "lassoCV = LassoCV(alphas=alpha_s, cv=len(Y))\n",
    "lassoCV.fit(X,Y)\n",
    "\n",
    "print(lassoCV.mse_path_.shape)\n",
    "\n",
    "alpha_score_lasso = lassoCV.mse_path_.mean(axis = 1)\n",
    "\n",
    "plt.plot(np.log10(alpha_path), alpha_score_lasso)\n",
    "\n",
    "print(\"D'après le graphe, on veut le score (erreur) le plus petit donc on prendra alpha =\", lassoCV.alpha_)\n",
    "\n",
    "print(\"Les coefficients de ridgeCV associé à ce alpha valent :\", lassoCV.coef_)\n",
    "\n"
   ]
  },
  {
   "cell_type": "code",
   "execution_count": null,
   "metadata": {},
   "outputs": [],
   "source": []
  }
 ],
 "metadata": {
  "kernelspec": {
   "display_name": "Python 3 (ipykernel)",
   "language": "python",
   "name": "python3"
  },
  "language_info": {
   "codemirror_mode": {
    "name": "ipython",
    "version": 3
   },
   "file_extension": ".py",
   "mimetype": "text/x-python",
   "name": "python",
   "nbconvert_exporter": "python",
   "pygments_lexer": "ipython3",
   "version": "3.9.7"
  }
 },
 "nbformat": 4,
 "nbformat_minor": 4
}
